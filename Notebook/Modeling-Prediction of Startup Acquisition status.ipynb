{
 "cells": [
  {
   "cell_type": "code",
   "execution_count": 1,
   "id": "105ee261",
   "metadata": {},
   "outputs": [],
   "source": [
    "import pandas as pd\n",
    "import numpy as np\n",
    "import seaborn as sns\n",
    "import matplotlib.pyplot as plt\n",
    "%matplotlib inline\n",
    "\n",
    "from datetime import date as dt\n",
    "from sklearn.preprocessing import StandardScaler\n",
    "from sklearn.model_selection import train_test_split,cross_val_score,StratifiedKFold,GridSearchCV,RandomizedSearchCV\n",
    "from imblearn.under_sampling import NearMiss\n",
    "from sklearn.decomposition import PCA\n",
    "from sklearn import preprocessing, model_selection\n",
    "from sklearn.metrics import accuracy_score,confusion_matrix,classification_report,plot_roc_curve,auc\n",
    "from sklearn.ensemble import RandomForestClassifier\n",
    "from sklearn.neighbors import KNeighborsClassifier\n",
    "from sklearn.pipeline import Pipeline\n",
    "from sklearn.discriminant_analysis import QuadraticDiscriminantAnalysis\n",
    "\n",
    "from collections import Counter\n",
    "import warnings\n",
    "warnings.filterwarnings('ignore')"
   ]
  },
  {
   "cell_type": "code",
   "execution_count": 2,
   "id": "3c7240ff",
   "metadata": {},
   "outputs": [
    {
     "data": {
      "text/html": [
       "<div>\n",
       "<style scoped>\n",
       "    .dataframe tbody tr th:only-of-type {\n",
       "        vertical-align: middle;\n",
       "    }\n",
       "\n",
       "    .dataframe tbody tr th {\n",
       "        vertical-align: top;\n",
       "    }\n",
       "\n",
       "    .dataframe thead th {\n",
       "        text-align: right;\n",
       "    }\n",
       "</style>\n",
       "<table border=\"1\" class=\"dataframe\">\n",
       "  <thead>\n",
       "    <tr style=\"text-align: right;\">\n",
       "      <th></th>\n",
       "      <th>id</th>\n",
       "      <th>Unnamed: 0.1</th>\n",
       "      <th>entity_type</th>\n",
       "      <th>entity_id</th>\n",
       "      <th>parent_id</th>\n",
       "      <th>name</th>\n",
       "      <th>normalized_name</th>\n",
       "      <th>permalink</th>\n",
       "      <th>category_code</th>\n",
       "      <th>status</th>\n",
       "      <th>...</th>\n",
       "      <th>first_milestone_at</th>\n",
       "      <th>last_milestone_at</th>\n",
       "      <th>milestones</th>\n",
       "      <th>relationships</th>\n",
       "      <th>created_by</th>\n",
       "      <th>created_at</th>\n",
       "      <th>updated_at</th>\n",
       "      <th>lat</th>\n",
       "      <th>lng</th>\n",
       "      <th>ROI</th>\n",
       "    </tr>\n",
       "  </thead>\n",
       "  <tbody>\n",
       "    <tr>\n",
       "      <th>0</th>\n",
       "      <td>c:1</td>\n",
       "      <td>0</td>\n",
       "      <td>Company</td>\n",
       "      <td>1</td>\n",
       "      <td>NaN</td>\n",
       "      <td>Wetpaint</td>\n",
       "      <td>wetpaint</td>\n",
       "      <td>/company/wetpaint</td>\n",
       "      <td>web</td>\n",
       "      <td>operating</td>\n",
       "      <td>...</td>\n",
       "      <td>2010-09-05</td>\n",
       "      <td>2013-09-18</td>\n",
       "      <td>5.0</td>\n",
       "      <td>17.0</td>\n",
       "      <td>initial-importer</td>\n",
       "      <td>2007-05-25 06:51:27</td>\n",
       "      <td>2013-04-13 03:29:00</td>\n",
       "      <td>47.606209</td>\n",
       "      <td>-122.332071</td>\n",
       "      <td>15.5</td>\n",
       "    </tr>\n",
       "    <tr>\n",
       "      <th>1</th>\n",
       "      <td>c:10</td>\n",
       "      <td>1</td>\n",
       "      <td>Company</td>\n",
       "      <td>10</td>\n",
       "      <td>NaN</td>\n",
       "      <td>Flektor</td>\n",
       "      <td>flektor</td>\n",
       "      <td>/company/flektor</td>\n",
       "      <td>games_video</td>\n",
       "      <td>acquired</td>\n",
       "      <td>...</td>\n",
       "      <td>NaN</td>\n",
       "      <td>NaN</td>\n",
       "      <td>NaN</td>\n",
       "      <td>6.0</td>\n",
       "      <td>initial-importer</td>\n",
       "      <td>2007-05-31 21:11:51</td>\n",
       "      <td>2008-05-23 23:23:14</td>\n",
       "      <td>34.021122</td>\n",
       "      <td>-118.396467</td>\n",
       "      <td>NaN</td>\n",
       "    </tr>\n",
       "    <tr>\n",
       "      <th>2</th>\n",
       "      <td>c:100</td>\n",
       "      <td>2</td>\n",
       "      <td>Company</td>\n",
       "      <td>100</td>\n",
       "      <td>NaN</td>\n",
       "      <td>There</td>\n",
       "      <td>there</td>\n",
       "      <td>/company/there</td>\n",
       "      <td>games_video</td>\n",
       "      <td>acquired</td>\n",
       "      <td>...</td>\n",
       "      <td>2003-02-01</td>\n",
       "      <td>2011-09-23</td>\n",
       "      <td>4.0</td>\n",
       "      <td>12.0</td>\n",
       "      <td>initial-importer</td>\n",
       "      <td>2007-08-06 23:52:45</td>\n",
       "      <td>2013-11-04 02:09:48</td>\n",
       "      <td>37.562992</td>\n",
       "      <td>-122.325525</td>\n",
       "      <td>NaN</td>\n",
       "    </tr>\n",
       "    <tr>\n",
       "      <th>3</th>\n",
       "      <td>c:10000</td>\n",
       "      <td>3</td>\n",
       "      <td>Company</td>\n",
       "      <td>10000</td>\n",
       "      <td>NaN</td>\n",
       "      <td>MYWEBBO</td>\n",
       "      <td>mywebbo</td>\n",
       "      <td>/company/mywebbo</td>\n",
       "      <td>network_hosting</td>\n",
       "      <td>operating</td>\n",
       "      <td>...</td>\n",
       "      <td>NaN</td>\n",
       "      <td>NaN</td>\n",
       "      <td>NaN</td>\n",
       "      <td>NaN</td>\n",
       "      <td>NaN</td>\n",
       "      <td>2008-08-24 16:51:57</td>\n",
       "      <td>2008-09-06 14:19:18</td>\n",
       "      <td>NaN</td>\n",
       "      <td>NaN</td>\n",
       "      <td>NaN</td>\n",
       "    </tr>\n",
       "    <tr>\n",
       "      <th>4</th>\n",
       "      <td>c:10001</td>\n",
       "      <td>4</td>\n",
       "      <td>Company</td>\n",
       "      <td>10001</td>\n",
       "      <td>NaN</td>\n",
       "      <td>THE Movie Streamer</td>\n",
       "      <td>the movie streamer</td>\n",
       "      <td>/company/the-movie-streamer</td>\n",
       "      <td>games_video</td>\n",
       "      <td>operating</td>\n",
       "      <td>...</td>\n",
       "      <td>NaN</td>\n",
       "      <td>NaN</td>\n",
       "      <td>NaN</td>\n",
       "      <td>NaN</td>\n",
       "      <td>NaN</td>\n",
       "      <td>2008-08-24 17:10:34</td>\n",
       "      <td>2008-09-06 14:19:18</td>\n",
       "      <td>NaN</td>\n",
       "      <td>NaN</td>\n",
       "      <td>NaN</td>\n",
       "    </tr>\n",
       "  </tbody>\n",
       "</table>\n",
       "<p>5 rows × 44 columns</p>\n",
       "</div>"
      ],
      "text/plain": [
       "        id  Unnamed: 0.1 entity_type  entity_id  parent_id  \\\n",
       "0      c:1             0     Company          1        NaN   \n",
       "1     c:10             1     Company         10        NaN   \n",
       "2    c:100             2     Company        100        NaN   \n",
       "3  c:10000             3     Company      10000        NaN   \n",
       "4  c:10001             4     Company      10001        NaN   \n",
       "\n",
       "                 name     normalized_name                    permalink  \\\n",
       "0            Wetpaint            wetpaint            /company/wetpaint   \n",
       "1             Flektor             flektor             /company/flektor   \n",
       "2               There               there               /company/there   \n",
       "3             MYWEBBO             mywebbo             /company/mywebbo   \n",
       "4  THE Movie Streamer  the movie streamer  /company/the-movie-streamer   \n",
       "\n",
       "     category_code     status  ... first_milestone_at last_milestone_at  \\\n",
       "0              web  operating  ...         2010-09-05        2013-09-18   \n",
       "1      games_video   acquired  ...                NaN               NaN   \n",
       "2      games_video   acquired  ...         2003-02-01        2011-09-23   \n",
       "3  network_hosting  operating  ...                NaN               NaN   \n",
       "4      games_video  operating  ...                NaN               NaN   \n",
       "\n",
       "  milestones relationships        created_by           created_at  \\\n",
       "0        5.0          17.0  initial-importer  2007-05-25 06:51:27   \n",
       "1        NaN           6.0  initial-importer  2007-05-31 21:11:51   \n",
       "2        4.0          12.0  initial-importer  2007-08-06 23:52:45   \n",
       "3        NaN           NaN               NaN  2008-08-24 16:51:57   \n",
       "4        NaN           NaN               NaN  2008-08-24 17:10:34   \n",
       "\n",
       "            updated_at        lat         lng   ROI  \n",
       "0  2013-04-13 03:29:00  47.606209 -122.332071  15.5  \n",
       "1  2008-05-23 23:23:14  34.021122 -118.396467   NaN  \n",
       "2  2013-11-04 02:09:48  37.562992 -122.325525   NaN  \n",
       "3  2008-09-06 14:19:18        NaN         NaN   NaN  \n",
       "4  2008-09-06 14:19:18        NaN         NaN   NaN  \n",
       "\n",
       "[5 rows x 44 columns]"
      ]
     },
     "execution_count": 2,
     "metadata": {},
     "output_type": "execute_result"
    }
   ],
   "source": [
    "com = pd.read_csv('companies.csv')\n",
    "com.head()"
   ]
  },
  {
   "cell_type": "code",
   "execution_count": 3,
   "id": "a007b3f4",
   "metadata": {},
   "outputs": [
    {
     "data": {
      "text/plain": [
       "2011-01-01    3748\n",
       "2010-01-01    3718\n",
       "2012-01-01    3362\n",
       "2009-01-01    3324\n",
       "2008-01-01    2818\n",
       "              ... \n",
       "1996-08-06       1\n",
       "1971-06-06       1\n",
       "1991-12-20       1\n",
       "1982-04-17       1\n",
       "1988-08-15       1\n",
       "Name: founded_at, Length: 6156, dtype: int64"
      ]
     },
     "execution_count": 3,
     "metadata": {},
     "output_type": "execute_result"
    }
   ],
   "source": [
    "com['founded_at'].value_counts()"
   ]
  },
  {
   "cell_type": "markdown",
   "id": "78db8edd",
   "metadata": {},
   "source": [
    "## EDA:"
   ]
  },
  {
   "cell_type": "code",
   "execution_count": 4,
   "id": "52cc1055",
   "metadata": {},
   "outputs": [
    {
     "data": {
      "text/html": [
       "<div>\n",
       "<style scoped>\n",
       "    .dataframe tbody tr th:only-of-type {\n",
       "        vertical-align: middle;\n",
       "    }\n",
       "\n",
       "    .dataframe tbody tr th {\n",
       "        vertical-align: top;\n",
       "    }\n",
       "\n",
       "    .dataframe thead th {\n",
       "        text-align: right;\n",
       "    }\n",
       "</style>\n",
       "<table border=\"1\" class=\"dataframe\">\n",
       "  <thead>\n",
       "    <tr style=\"text-align: right;\">\n",
       "      <th></th>\n",
       "      <th>Unnamed: 0.1</th>\n",
       "      <th>entity_id</th>\n",
       "      <th>parent_id</th>\n",
       "      <th>logo_width</th>\n",
       "      <th>logo_height</th>\n",
       "      <th>investment_rounds</th>\n",
       "      <th>invested_companies</th>\n",
       "      <th>funding_rounds</th>\n",
       "      <th>funding_total_usd</th>\n",
       "      <th>milestones</th>\n",
       "      <th>relationships</th>\n",
       "      <th>lat</th>\n",
       "      <th>lng</th>\n",
       "      <th>ROI</th>\n",
       "    </tr>\n",
       "  </thead>\n",
       "  <tbody>\n",
       "    <tr>\n",
       "      <th>count</th>\n",
       "      <td>196553.000000</td>\n",
       "      <td>196553.000000</td>\n",
       "      <td>0.0</td>\n",
       "      <td>110110.000000</td>\n",
       "      <td>110110.000000</td>\n",
       "      <td>2591.000000</td>\n",
       "      <td>2591.000000</td>\n",
       "      <td>31707.000000</td>\n",
       "      <td>2.787400e+04</td>\n",
       "      <td>91699.000000</td>\n",
       "      <td>129667.000000</td>\n",
       "      <td>83852.000000</td>\n",
       "      <td>83852.000000</td>\n",
       "      <td>726.000000</td>\n",
       "    </tr>\n",
       "    <tr>\n",
       "      <th>mean</th>\n",
       "      <td>98276.000000</td>\n",
       "      <td>153006.227333</td>\n",
       "      <td>NaN</td>\n",
       "      <td>459.132685</td>\n",
       "      <td>222.728917</td>\n",
       "      <td>2.372057</td>\n",
       "      <td>2.204940</td>\n",
       "      <td>1.659760</td>\n",
       "      <td>1.481652e+07</td>\n",
       "      <td>1.199402</td>\n",
       "      <td>2.852067</td>\n",
       "      <td>37.564512</td>\n",
       "      <td>-52.123066</td>\n",
       "      <td>45.745037</td>\n",
       "    </tr>\n",
       "    <tr>\n",
       "      <th>std</th>\n",
       "      <td>56740.108067</td>\n",
       "      <td>90209.250941</td>\n",
       "      <td>NaN</td>\n",
       "      <td>594.982577</td>\n",
       "      <td>333.090722</td>\n",
       "      <td>12.173510</td>\n",
       "      <td>11.436955</td>\n",
       "      <td>1.201666</td>\n",
       "      <td>6.775937e+07</td>\n",
       "      <td>0.540099</td>\n",
       "      <td>9.100309</td>\n",
       "      <td>15.477102</td>\n",
       "      <td>70.049067</td>\n",
       "      <td>572.035638</td>\n",
       "    </tr>\n",
       "    <tr>\n",
       "      <th>min</th>\n",
       "      <td>0.000000</td>\n",
       "      <td>1.000000</td>\n",
       "      <td>NaN</td>\n",
       "      <td>1.000000</td>\n",
       "      <td>1.000000</td>\n",
       "      <td>1.000000</td>\n",
       "      <td>1.000000</td>\n",
       "      <td>1.000000</td>\n",
       "      <td>2.910000e+02</td>\n",
       "      <td>1.000000</td>\n",
       "      <td>1.000000</td>\n",
       "      <td>-50.942326</td>\n",
       "      <td>-159.497746</td>\n",
       "      <td>0.011111</td>\n",
       "    </tr>\n",
       "    <tr>\n",
       "      <th>25%</th>\n",
       "      <td>49138.000000</td>\n",
       "      <td>59850.000000</td>\n",
       "      <td>NaN</td>\n",
       "      <td>192.000000</td>\n",
       "      <td>70.000000</td>\n",
       "      <td>1.000000</td>\n",
       "      <td>1.000000</td>\n",
       "      <td>1.000000</td>\n",
       "      <td>5.000000e+05</td>\n",
       "      <td>1.000000</td>\n",
       "      <td>1.000000</td>\n",
       "      <td>34.052234</td>\n",
       "      <td>-111.940005</td>\n",
       "      <td>2.648879</td>\n",
       "    </tr>\n",
       "    <tr>\n",
       "      <th>50%</th>\n",
       "      <td>98276.000000</td>\n",
       "      <td>174539.000000</td>\n",
       "      <td>NaN</td>\n",
       "      <td>267.000000</td>\n",
       "      <td>105.000000</td>\n",
       "      <td>1.000000</td>\n",
       "      <td>1.000000</td>\n",
       "      <td>1.000000</td>\n",
       "      <td>2.564500e+06</td>\n",
       "      <td>1.000000</td>\n",
       "      <td>1.000000</td>\n",
       "      <td>39.768403</td>\n",
       "      <td>-77.036871</td>\n",
       "      <td>6.500497</td>\n",
       "    </tr>\n",
       "    <tr>\n",
       "      <th>75%</th>\n",
       "      <td>147414.000000</td>\n",
       "      <td>232655.000000</td>\n",
       "      <td>NaN</td>\n",
       "      <td>484.000000</td>\n",
       "      <td>232.000000</td>\n",
       "      <td>1.000000</td>\n",
       "      <td>1.000000</td>\n",
       "      <td>2.000000</td>\n",
       "      <td>1.100000e+07</td>\n",
       "      <td>1.000000</td>\n",
       "      <td>3.000000</td>\n",
       "      <td>45.421530</td>\n",
       "      <td>-0.127758</td>\n",
       "      <td>13.549900</td>\n",
       "    </tr>\n",
       "    <tr>\n",
       "      <th>max</th>\n",
       "      <td>196552.000000</td>\n",
       "      <td>286215.000000</td>\n",
       "      <td>NaN</td>\n",
       "      <td>18200.000000</td>\n",
       "      <td>9600.000000</td>\n",
       "      <td>478.000000</td>\n",
       "      <td>459.000000</td>\n",
       "      <td>15.000000</td>\n",
       "      <td>5.700000e+09</td>\n",
       "      <td>9.000000</td>\n",
       "      <td>1189.000000</td>\n",
       "      <td>77.553604</td>\n",
       "      <td>176.212549</td>\n",
       "      <td>13333.333333</td>\n",
       "    </tr>\n",
       "  </tbody>\n",
       "</table>\n",
       "</div>"
      ],
      "text/plain": [
       "        Unnamed: 0.1      entity_id  parent_id     logo_width    logo_height  \\\n",
       "count  196553.000000  196553.000000        0.0  110110.000000  110110.000000   \n",
       "mean    98276.000000  153006.227333        NaN     459.132685     222.728917   \n",
       "std     56740.108067   90209.250941        NaN     594.982577     333.090722   \n",
       "min         0.000000       1.000000        NaN       1.000000       1.000000   \n",
       "25%     49138.000000   59850.000000        NaN     192.000000      70.000000   \n",
       "50%     98276.000000  174539.000000        NaN     267.000000     105.000000   \n",
       "75%    147414.000000  232655.000000        NaN     484.000000     232.000000   \n",
       "max    196552.000000  286215.000000        NaN   18200.000000    9600.000000   \n",
       "\n",
       "       investment_rounds  invested_companies  funding_rounds  \\\n",
       "count        2591.000000         2591.000000    31707.000000   \n",
       "mean            2.372057            2.204940        1.659760   \n",
       "std            12.173510           11.436955        1.201666   \n",
       "min             1.000000            1.000000        1.000000   \n",
       "25%             1.000000            1.000000        1.000000   \n",
       "50%             1.000000            1.000000        1.000000   \n",
       "75%             1.000000            1.000000        2.000000   \n",
       "max           478.000000          459.000000       15.000000   \n",
       "\n",
       "       funding_total_usd    milestones  relationships           lat  \\\n",
       "count       2.787400e+04  91699.000000  129667.000000  83852.000000   \n",
       "mean        1.481652e+07      1.199402       2.852067     37.564512   \n",
       "std         6.775937e+07      0.540099       9.100309     15.477102   \n",
       "min         2.910000e+02      1.000000       1.000000    -50.942326   \n",
       "25%         5.000000e+05      1.000000       1.000000     34.052234   \n",
       "50%         2.564500e+06      1.000000       1.000000     39.768403   \n",
       "75%         1.100000e+07      1.000000       3.000000     45.421530   \n",
       "max         5.700000e+09      9.000000    1189.000000     77.553604   \n",
       "\n",
       "                lng           ROI  \n",
       "count  83852.000000    726.000000  \n",
       "mean     -52.123066     45.745037  \n",
       "std       70.049067    572.035638  \n",
       "min     -159.497746      0.011111  \n",
       "25%     -111.940005      2.648879  \n",
       "50%      -77.036871      6.500497  \n",
       "75%       -0.127758     13.549900  \n",
       "max      176.212549  13333.333333  "
      ]
     },
     "execution_count": 4,
     "metadata": {},
     "output_type": "execute_result"
    }
   ],
   "source": [
    "com.describe()"
   ]
  },
  {
   "cell_type": "markdown",
   "id": "15907afb",
   "metadata": {},
   "source": [
    "Short description of our dataset, this will give us the short summary of dataset it gives the \n",
    "- counts \n",
    "- mean \n",
    "- standard deviation\n",
    "- minimum\n",
    "- 1st quantile\n",
    "- 2nd quantile\n",
    "- 3rd quantile \n",
    "- maximum value of each columns."
   ]
  },
  {
   "cell_type": "code",
   "execution_count": 5,
   "id": "30ae0838",
   "metadata": {},
   "outputs": [
    {
     "name": "stdout",
     "output_type": "stream",
     "text": [
      "<class 'pandas.core.frame.DataFrame'>\n",
      "RangeIndex: 196553 entries, 0 to 196552\n",
      "Data columns (total 44 columns):\n",
      " #   Column               Non-Null Count   Dtype  \n",
      "---  ------               --------------   -----  \n",
      " 0   id                   196553 non-null  object \n",
      " 1   Unnamed: 0.1         196553 non-null  int64  \n",
      " 2   entity_type          196553 non-null  object \n",
      " 3   entity_id            196553 non-null  int64  \n",
      " 4   parent_id            0 non-null       float64\n",
      " 5   name                 196531 non-null  object \n",
      " 6   normalized_name      196527 non-null  object \n",
      " 7   permalink            196553 non-null  object \n",
      " 8   category_code        123186 non-null  object \n",
      " 9   status               196553 non-null  object \n",
      " 10  founded_at           91227 non-null   object \n",
      " 11  closed_at            2620 non-null    object \n",
      " 12  domain               126545 non-null  object \n",
      " 13  homepage_url         126545 non-null  object \n",
      " 14  twitter_username     80591 non-null   object \n",
      " 15  logo_url             110110 non-null  object \n",
      " 16  logo_width           110110 non-null  float64\n",
      " 17  logo_height          110110 non-null  float64\n",
      " 18  short_description    7131 non-null    object \n",
      " 19  description          92048 non-null   object \n",
      " 20  overview             126971 non-null  object \n",
      " 21  tag_list             81452 non-null   object \n",
      " 22  country_code         87990 non-null   object \n",
      " 23  state_code           50903 non-null   object \n",
      " 24  city                 83890 non-null   object \n",
      " 25  region               196553 non-null  object \n",
      " 26  first_investment_at  2583 non-null    object \n",
      " 27  last_investment_at   2583 non-null    object \n",
      " 28  investment_rounds    2591 non-null    float64\n",
      " 29  invested_companies   2591 non-null    float64\n",
      " 30  first_funding_at     31507 non-null   object \n",
      " 31  last_funding_at      31507 non-null   object \n",
      " 32  funding_rounds       31707 non-null   float64\n",
      " 33  funding_total_usd    27874 non-null   float64\n",
      " 34  first_milestone_at   91699 non-null   object \n",
      " 35  last_milestone_at    91699 non-null   object \n",
      " 36  milestones           91699 non-null   float64\n",
      " 37  relationships        129667 non-null  float64\n",
      " 38  created_by           155533 non-null  object \n",
      " 39  created_at           196553 non-null  object \n",
      " 40  updated_at           196553 non-null  object \n",
      " 41  lat                  83852 non-null   float64\n",
      " 42  lng                  83852 non-null   float64\n",
      " 43  ROI                  726 non-null     float64\n",
      "dtypes: float64(12), int64(2), object(30)\n",
      "memory usage: 66.0+ MB\n"
     ]
    }
   ],
   "source": [
    "com.info()"
   ]
  },
  {
   "cell_type": "markdown",
   "id": "2e732580",
   "metadata": {},
   "source": [
    "Information about the dataset.\n",
    "- RangeIndex : 0 - 196552\n",
    "- columns : 44\n",
    "- dtypes : float(12), int(2), object(30)"
   ]
  },
  {
   "cell_type": "code",
   "execution_count": 6,
   "id": "acd36a82",
   "metadata": {},
   "outputs": [
    {
     "data": {
      "text/plain": [
       "id                          0\n",
       "Unnamed: 0.1                0\n",
       "entity_type                 0\n",
       "entity_id                   0\n",
       "parent_id              196553\n",
       "name                       22\n",
       "normalized_name            26\n",
       "permalink                   0\n",
       "category_code           73367\n",
       "status                      0\n",
       "founded_at             105326\n",
       "closed_at              193933\n",
       "domain                  70008\n",
       "homepage_url            70008\n",
       "twitter_username       115962\n",
       "logo_url                86443\n",
       "logo_width              86443\n",
       "logo_height             86443\n",
       "short_description      189422\n",
       "description            104505\n",
       "overview                69582\n",
       "tag_list               115101\n",
       "country_code           108563\n",
       "state_code             145650\n",
       "city                   112663\n",
       "region                      0\n",
       "first_investment_at    193970\n",
       "last_investment_at     193970\n",
       "investment_rounds      193962\n",
       "invested_companies     193962\n",
       "first_funding_at       165046\n",
       "last_funding_at        165046\n",
       "funding_rounds         164846\n",
       "funding_total_usd      168679\n",
       "first_milestone_at     104854\n",
       "last_milestone_at      104854\n",
       "milestones             104854\n",
       "relationships           66886\n",
       "created_by              41020\n",
       "created_at                  0\n",
       "updated_at                  0\n",
       "lat                    112701\n",
       "lng                    112701\n",
       "ROI                    195827\n",
       "dtype: int64"
      ]
     },
     "execution_count": 6,
     "metadata": {},
     "output_type": "execute_result"
    }
   ],
   "source": [
    "com.isna().sum()"
   ]
  },
  {
   "cell_type": "markdown",
   "id": "e4850699",
   "metadata": {},
   "source": [
    "There are so many null values present in our dataset, there are only 9 columns with 0 null values and some of the columns are of completely null values or empty columns, also some of the columns only have few entries.\n",
    "So, going to drop all those unnecessary columns with all the null values and will not required in further analysis."
   ]
  },
  {
   "cell_type": "markdown",
   "id": "4bf0b411",
   "metadata": {},
   "source": [
    "## Data Cleaning."
   ]
  },
  {
   "cell_type": "code",
   "execution_count": 7,
   "id": "5c6889bb",
   "metadata": {
    "scrolled": true
   },
   "outputs": [
    {
     "data": {
      "text/html": [
       "<div>\n",
       "<style scoped>\n",
       "    .dataframe tbody tr th:only-of-type {\n",
       "        vertical-align: middle;\n",
       "    }\n",
       "\n",
       "    .dataframe tbody tr th {\n",
       "        vertical-align: top;\n",
       "    }\n",
       "\n",
       "    .dataframe thead th {\n",
       "        text-align: right;\n",
       "    }\n",
       "</style>\n",
       "<table border=\"1\" class=\"dataframe\">\n",
       "  <thead>\n",
       "    <tr style=\"text-align: right;\">\n",
       "      <th></th>\n",
       "      <th>entity_id</th>\n",
       "      <th>name</th>\n",
       "      <th>category_code</th>\n",
       "      <th>status</th>\n",
       "      <th>founded_at</th>\n",
       "      <th>closed_at</th>\n",
       "      <th>country_code</th>\n",
       "      <th>investment_rounds</th>\n",
       "      <th>invested_companies</th>\n",
       "      <th>funding_rounds</th>\n",
       "      <th>funding_total_usd</th>\n",
       "      <th>milestones</th>\n",
       "      <th>relationships</th>\n",
       "      <th>created_at</th>\n",
       "      <th>updated_at</th>\n",
       "      <th>ROI</th>\n",
       "    </tr>\n",
       "  </thead>\n",
       "  <tbody>\n",
       "    <tr>\n",
       "      <th>0</th>\n",
       "      <td>1</td>\n",
       "      <td>Wetpaint</td>\n",
       "      <td>web</td>\n",
       "      <td>operating</td>\n",
       "      <td>2005-10-17</td>\n",
       "      <td>NaN</td>\n",
       "      <td>USA</td>\n",
       "      <td>NaN</td>\n",
       "      <td>NaN</td>\n",
       "      <td>3.0</td>\n",
       "      <td>39750000.0</td>\n",
       "      <td>5.0</td>\n",
       "      <td>17.0</td>\n",
       "      <td>2007-05-25 06:51:27</td>\n",
       "      <td>2013-04-13 03:29:00</td>\n",
       "      <td>15.5</td>\n",
       "    </tr>\n",
       "    <tr>\n",
       "      <th>1</th>\n",
       "      <td>10</td>\n",
       "      <td>Flektor</td>\n",
       "      <td>games_video</td>\n",
       "      <td>acquired</td>\n",
       "      <td>NaN</td>\n",
       "      <td>NaN</td>\n",
       "      <td>USA</td>\n",
       "      <td>NaN</td>\n",
       "      <td>NaN</td>\n",
       "      <td>NaN</td>\n",
       "      <td>NaN</td>\n",
       "      <td>NaN</td>\n",
       "      <td>6.0</td>\n",
       "      <td>2007-05-31 21:11:51</td>\n",
       "      <td>2008-05-23 23:23:14</td>\n",
       "      <td>NaN</td>\n",
       "    </tr>\n",
       "    <tr>\n",
       "      <th>2</th>\n",
       "      <td>100</td>\n",
       "      <td>There</td>\n",
       "      <td>games_video</td>\n",
       "      <td>acquired</td>\n",
       "      <td>NaN</td>\n",
       "      <td>NaN</td>\n",
       "      <td>USA</td>\n",
       "      <td>NaN</td>\n",
       "      <td>NaN</td>\n",
       "      <td>NaN</td>\n",
       "      <td>NaN</td>\n",
       "      <td>4.0</td>\n",
       "      <td>12.0</td>\n",
       "      <td>2007-08-06 23:52:45</td>\n",
       "      <td>2013-11-04 02:09:48</td>\n",
       "      <td>NaN</td>\n",
       "    </tr>\n",
       "    <tr>\n",
       "      <th>3</th>\n",
       "      <td>10000</td>\n",
       "      <td>MYWEBBO</td>\n",
       "      <td>network_hosting</td>\n",
       "      <td>operating</td>\n",
       "      <td>2008-07-26</td>\n",
       "      <td>NaN</td>\n",
       "      <td>NaN</td>\n",
       "      <td>NaN</td>\n",
       "      <td>NaN</td>\n",
       "      <td>NaN</td>\n",
       "      <td>NaN</td>\n",
       "      <td>NaN</td>\n",
       "      <td>NaN</td>\n",
       "      <td>2008-08-24 16:51:57</td>\n",
       "      <td>2008-09-06 14:19:18</td>\n",
       "      <td>NaN</td>\n",
       "    </tr>\n",
       "    <tr>\n",
       "      <th>4</th>\n",
       "      <td>10001</td>\n",
       "      <td>THE Movie Streamer</td>\n",
       "      <td>games_video</td>\n",
       "      <td>operating</td>\n",
       "      <td>2008-07-26</td>\n",
       "      <td>NaN</td>\n",
       "      <td>NaN</td>\n",
       "      <td>NaN</td>\n",
       "      <td>NaN</td>\n",
       "      <td>NaN</td>\n",
       "      <td>NaN</td>\n",
       "      <td>NaN</td>\n",
       "      <td>NaN</td>\n",
       "      <td>2008-08-24 17:10:34</td>\n",
       "      <td>2008-09-06 14:19:18</td>\n",
       "      <td>NaN</td>\n",
       "    </tr>\n",
       "  </tbody>\n",
       "</table>\n",
       "</div>"
      ],
      "text/plain": [
       "   entity_id                name    category_code     status  founded_at  \\\n",
       "0          1            Wetpaint              web  operating  2005-10-17   \n",
       "1         10             Flektor      games_video   acquired         NaN   \n",
       "2        100               There      games_video   acquired         NaN   \n",
       "3      10000             MYWEBBO  network_hosting  operating  2008-07-26   \n",
       "4      10001  THE Movie Streamer      games_video  operating  2008-07-26   \n",
       "\n",
       "  closed_at country_code  investment_rounds  invested_companies  \\\n",
       "0       NaN          USA                NaN                 NaN   \n",
       "1       NaN          USA                NaN                 NaN   \n",
       "2       NaN          USA                NaN                 NaN   \n",
       "3       NaN          NaN                NaN                 NaN   \n",
       "4       NaN          NaN                NaN                 NaN   \n",
       "\n",
       "   funding_rounds  funding_total_usd  milestones  relationships  \\\n",
       "0             3.0         39750000.0         5.0           17.0   \n",
       "1             NaN                NaN         NaN            6.0   \n",
       "2             NaN                NaN         4.0           12.0   \n",
       "3             NaN                NaN         NaN            NaN   \n",
       "4             NaN                NaN         NaN            NaN   \n",
       "\n",
       "            created_at           updated_at   ROI  \n",
       "0  2007-05-25 06:51:27  2013-04-13 03:29:00  15.5  \n",
       "1  2007-05-31 21:11:51  2008-05-23 23:23:14   NaN  \n",
       "2  2007-08-06 23:52:45  2013-11-04 02:09:48   NaN  \n",
       "3  2008-08-24 16:51:57  2008-09-06 14:19:18   NaN  \n",
       "4  2008-08-24 17:10:34  2008-09-06 14:19:18   NaN  "
      ]
     },
     "execution_count": 7,
     "metadata": {},
     "output_type": "execute_result"
    }
   ],
   "source": [
    "data = com.drop(columns = ['id','entity_type','permalink','region','created_by','Unnamed: 0.1','normalized_name','parent_id','domain','homepage_url','logo_url','logo_width','logo_height','overview','short_description','twitter_username','short_description','description','tag_list','state_code','city','first_investment_at', 'last_investment_at','first_milestone_at','last_milestone_at',  'first_funding_at','last_funding_at','lat','lng'])\n",
    "data.head()"
   ]
  },
  {
   "cell_type": "markdown",
   "id": "7ad6ed75",
   "metadata": {},
   "source": [
    "**- Droping the unwanted columns:**"
   ]
  },
  {
   "cell_type": "markdown",
   "id": "853f0e19",
   "metadata": {},
   "source": [
    "'id','Unnamed:0.1','normalized_name','parent_id','domain','homepage_url','logo_url','logo_width','logo_height','overview',\n",
    "'short_description','twitter_username','description','tag_list','country_code','state_code','city','first_investment_at','last_investment_at','first_milestone_at',\n",
    "'last_milestone_at','first_funding_at','last_funding_at','lat','lng'\n",
    "- Dropping all these columns because\n",
    " - Some columns are empty.\n",
    " - Unwanted object columns.\n",
    " - 70% of Null values present in the columns.\n",
    " - Empty columns.\n",
    " - Unnecessary columns."
   ]
  },
  {
   "cell_type": "markdown",
   "id": "65482a4e",
   "metadata": {},
   "source": [
    "## Dropping Null rows:"
   ]
  },
  {
   "cell_type": "code",
   "execution_count": 8,
   "id": "8111fb27",
   "metadata": {},
   "outputs": [
    {
     "data": {
      "text/plain": [
       "(64094, 16)"
      ]
     },
     "execution_count": 8,
     "metadata": {},
     "output_type": "execute_result"
    }
   ],
   "source": [
    "data.dropna(subset= ['name','country_code','category_code','founded_at'],inplace = True)\n",
    "data.shape"
   ]
  },
  {
   "cell_type": "markdown",
   "id": "d32dc0c9",
   "metadata": {},
   "source": [
    "## Filling the missing values"
   ]
  },
  {
   "cell_type": "markdown",
   "id": "431c93ca",
   "metadata": {},
   "source": [
    "**- Filling the Investment Rounds columns with the median() method, as rounds cannot be in float datatype**"
   ]
  },
  {
   "cell_type": "code",
   "execution_count": 9,
   "id": "d9942e70",
   "metadata": {},
   "outputs": [],
   "source": [
    "data['investment_rounds'] = data['investment_rounds'].fillna(data['investment_rounds'].median())"
   ]
  },
  {
   "cell_type": "markdown",
   "id": "03e3669f",
   "metadata": {},
   "source": [
    "**- Filling the Invested Companies columns with the median() method, as in our dataset the Invested Companies data is in integer so it cannot be in float datatype**"
   ]
  },
  {
   "cell_type": "code",
   "execution_count": 10,
   "id": "932e322d",
   "metadata": {},
   "outputs": [],
   "source": [
    "data['invested_companies'] = data['invested_companies'].fillna(data['invested_companies'].median())"
   ]
  },
  {
   "cell_type": "markdown",
   "id": "b09930fc",
   "metadata": {},
   "source": [
    "**- Filling the Funding Rounds columns with the median() method, as in our dataset the Funding Rounds data is in integer so it cannot be in float datatype.**"
   ]
  },
  {
   "cell_type": "code",
   "execution_count": 11,
   "id": "55db22b0",
   "metadata": {},
   "outputs": [],
   "source": [
    "data['funding_rounds'] = data['funding_rounds'].fillna(data['funding_rounds'].median())"
   ]
  },
  {
   "cell_type": "markdown",
   "id": "a37725c6",
   "metadata": {},
   "source": [
    "**- Filling the Funding Total USD columns with the mean() method, as in Funding Total USD is an int type and can be float data.**"
   ]
  },
  {
   "cell_type": "code",
   "execution_count": 12,
   "id": "537bc2a0",
   "metadata": {},
   "outputs": [],
   "source": [
    "data['funding_total_usd'] = data['funding_total_usd'].fillna(data['funding_total_usd'].mean())"
   ]
  },
  {
   "cell_type": "markdown",
   "id": "813eb888",
   "metadata": {},
   "source": [
    "**- Filling the Milestones columns with the mode() method.**"
   ]
  },
  {
   "cell_type": "code",
   "execution_count": 13,
   "id": "86e64ca0",
   "metadata": {},
   "outputs": [],
   "source": [
    "data['milestones'] = data['milestones'].fillna(data['milestones'].mode()[0])"
   ]
  },
  {
   "cell_type": "markdown",
   "id": "ec9b8b06",
   "metadata": {},
   "source": [
    "**- Filling the Relationships columns with the mean() method.**"
   ]
  },
  {
   "cell_type": "code",
   "execution_count": 14,
   "id": "27659c40",
   "metadata": {},
   "outputs": [],
   "source": [
    "data['relationships'] = data['relationships'].fillna(data['relationships'].mean())"
   ]
  },
  {
   "cell_type": "markdown",
   "id": "72592a85",
   "metadata": {},
   "source": [
    "**- Filling the ROI columns with the mean() method.**"
   ]
  },
  {
   "cell_type": "code",
   "execution_count": 15,
   "id": "8894a535",
   "metadata": {},
   "outputs": [],
   "source": [
    "data['ROI'] = data['ROI'].fillna(data['ROI'].mean())"
   ]
  },
  {
   "cell_type": "markdown",
   "id": "f8433abc",
   "metadata": {},
   "source": [
    "## Datetime columns :"
   ]
  },
  {
   "cell_type": "markdown",
   "id": "9200b8a6",
   "metadata": {},
   "source": [
    "**- Converting the dtype to datetime.**"
   ]
  },
  {
   "cell_type": "code",
   "execution_count": 16,
   "id": "833a6c9d",
   "metadata": {},
   "outputs": [],
   "source": [
    "data['founded_at'] = pd.to_datetime(data['founded_at'])\n",
    "data['founded_at'] = data['founded_at'].dt.year"
   ]
  },
  {
   "cell_type": "markdown",
   "id": "b4b1bcc4",
   "metadata": {},
   "source": [
    "**- Filling the null values with mode()**"
   ]
  },
  {
   "cell_type": "code",
   "execution_count": 17,
   "id": "9e163997",
   "metadata": {},
   "outputs": [],
   "source": [
    "data['founded_at'] = data['founded_at'].fillna(data['founded_at'].mode()[0])"
   ]
  },
  {
   "cell_type": "markdown",
   "id": "6ebc70f5",
   "metadata": {},
   "source": [
    "**- Converting the dtype to datetime.**"
   ]
  },
  {
   "cell_type": "code",
   "execution_count": 18,
   "id": "d9f54f43",
   "metadata": {},
   "outputs": [],
   "source": [
    "data['closed_at'] = pd.to_datetime(data['closed_at'])\n",
    "data['closed_at'] = data['closed_at'].dt.year"
   ]
  },
  {
   "cell_type": "markdown",
   "id": "4573eff8",
   "metadata": {},
   "source": [
    "**- Filling the closed_at column with some condition.**\n",
    "- If Status is operating or ipo, fillna with 2021\n",
    "- If Status is accquired or closed, fillna with mode()"
   ]
  },
  {
   "cell_type": "code",
   "execution_count": 19,
   "id": "ae70f83c",
   "metadata": {},
   "outputs": [],
   "source": [
    "for i in data['status']:\n",
    "    if (i == 'operating' or 'ipo'):\n",
    "        data['closed_at'].fillna(2021,inplace = True)\n",
    "    elif (i == 'accquired' or 'closed'):\n",
    "        data['closed_at'].fillna(2012, inplace = True)"
   ]
  },
  {
   "cell_type": "markdown",
   "id": "d25f32d0",
   "metadata": {},
   "source": [
    "## Updateing the Date columns and taking only the year from it."
   ]
  },
  {
   "cell_type": "code",
   "execution_count": 20,
   "id": "f9701935",
   "metadata": {},
   "outputs": [],
   "source": [
    "created = []\n",
    "for i in data['created_at']:\n",
    "    created.append(i.split('-')[0])\n",
    "data['created_at']= created"
   ]
  },
  {
   "cell_type": "code",
   "execution_count": 21,
   "id": "d8bfa9ce",
   "metadata": {},
   "outputs": [],
   "source": [
    "data['created_at'] = pd.to_datetime(data['created_at'])\n",
    "data['created_at'] = data['created_at'].dt.year"
   ]
  },
  {
   "cell_type": "code",
   "execution_count": 22,
   "id": "f1ea1aba",
   "metadata": {},
   "outputs": [],
   "source": [
    "created = []\n",
    "for i in data['updated_at']:\n",
    "    created.append(int(i.split('-')[0]))\n",
    "data['updated_at']= created"
   ]
  },
  {
   "cell_type": "markdown",
   "id": "f97171a4",
   "metadata": {},
   "source": [
    "## Adding new updated columns :"
   ]
  },
  {
   "cell_type": "markdown",
   "id": "b7a67446",
   "metadata": {},
   "source": [
    "**-Adding Companies Age(in years), by subtracting founded at from closed at columns.**"
   ]
  },
  {
   "cell_type": "code",
   "execution_count": 23,
   "id": "87d29266",
   "metadata": {},
   "outputs": [],
   "source": [
    "data['companies_age'] = data['closed_at'] - data['founded_at']"
   ]
  },
  {
   "cell_type": "markdown",
   "id": "edbc45e0",
   "metadata": {},
   "source": [
    "**- After substraction, some of the entries will be negative value, so will remove negative value.**"
   ]
  },
  {
   "cell_type": "code",
   "execution_count": 24,
   "id": "d7a5f900",
   "metadata": {},
   "outputs": [],
   "source": [
    "index = np.where(data['companies_age'] < 0)\n",
    "data['companies_age'] = data['companies_age'].drop(data['companies_age'].index[index])"
   ]
  },
  {
   "cell_type": "code",
   "execution_count": 25,
   "id": "d9cbd8f8",
   "metadata": {},
   "outputs": [],
   "source": [
    "data['companies_age'] = data['companies_age'].fillna(0)"
   ]
  },
  {
   "cell_type": "code",
   "execution_count": 26,
   "id": "a964b993",
   "metadata": {},
   "outputs": [
    {
     "data": {
      "text/html": [
       "<div>\n",
       "<style scoped>\n",
       "    .dataframe tbody tr th:only-of-type {\n",
       "        vertical-align: middle;\n",
       "    }\n",
       "\n",
       "    .dataframe tbody tr th {\n",
       "        vertical-align: top;\n",
       "    }\n",
       "\n",
       "    .dataframe thead th {\n",
       "        text-align: right;\n",
       "    }\n",
       "</style>\n",
       "<table border=\"1\" class=\"dataframe\">\n",
       "  <thead>\n",
       "    <tr style=\"text-align: right;\">\n",
       "      <th></th>\n",
       "      <th>entity_id</th>\n",
       "      <th>name</th>\n",
       "      <th>category_code</th>\n",
       "      <th>status</th>\n",
       "      <th>founded_at</th>\n",
       "      <th>closed_at</th>\n",
       "      <th>country_code</th>\n",
       "      <th>investment_rounds</th>\n",
       "      <th>invested_companies</th>\n",
       "      <th>funding_rounds</th>\n",
       "      <th>funding_total_usd</th>\n",
       "      <th>milestones</th>\n",
       "      <th>relationships</th>\n",
       "      <th>created_at</th>\n",
       "      <th>updated_at</th>\n",
       "      <th>ROI</th>\n",
       "      <th>companies_age</th>\n",
       "    </tr>\n",
       "  </thead>\n",
       "  <tbody>\n",
       "    <tr>\n",
       "      <th>0</th>\n",
       "      <td>1</td>\n",
       "      <td>Wetpaint</td>\n",
       "      <td>web</td>\n",
       "      <td>operating</td>\n",
       "      <td>2005</td>\n",
       "      <td>2021.0</td>\n",
       "      <td>USA</td>\n",
       "      <td>1.0</td>\n",
       "      <td>1.0</td>\n",
       "      <td>3.0</td>\n",
       "      <td>3.975000e+07</td>\n",
       "      <td>5.0</td>\n",
       "      <td>17.00000</td>\n",
       "      <td>2007</td>\n",
       "      <td>2013</td>\n",
       "      <td>15.50000</td>\n",
       "      <td>16.0</td>\n",
       "    </tr>\n",
       "    <tr>\n",
       "      <th>5</th>\n",
       "      <td>10002</td>\n",
       "      <td>Synergie Media</td>\n",
       "      <td>advertising</td>\n",
       "      <td>operating</td>\n",
       "      <td>2007</td>\n",
       "      <td>2021.0</td>\n",
       "      <td>MAR</td>\n",
       "      <td>1.0</td>\n",
       "      <td>1.0</td>\n",
       "      <td>1.0</td>\n",
       "      <td>1.581978e+07</td>\n",
       "      <td>1.0</td>\n",
       "      <td>2.00000</td>\n",
       "      <td>2008</td>\n",
       "      <td>2008</td>\n",
       "      <td>14.41045</td>\n",
       "      <td>14.0</td>\n",
       "    </tr>\n",
       "    <tr>\n",
       "      <th>6</th>\n",
       "      <td>10003</td>\n",
       "      <td>Green Basti Ecosystems</td>\n",
       "      <td>cleantech</td>\n",
       "      <td>operating</td>\n",
       "      <td>2008</td>\n",
       "      <td>2021.0</td>\n",
       "      <td>IND</td>\n",
       "      <td>1.0</td>\n",
       "      <td>1.0</td>\n",
       "      <td>1.0</td>\n",
       "      <td>1.581978e+07</td>\n",
       "      <td>1.0</td>\n",
       "      <td>4.43465</td>\n",
       "      <td>2008</td>\n",
       "      <td>2010</td>\n",
       "      <td>14.41045</td>\n",
       "      <td>13.0</td>\n",
       "    </tr>\n",
       "    <tr>\n",
       "      <th>12</th>\n",
       "      <td>10009</td>\n",
       "      <td>dimension5 labs</td>\n",
       "      <td>advertising</td>\n",
       "      <td>operating</td>\n",
       "      <td>2008</td>\n",
       "      <td>2021.0</td>\n",
       "      <td>USA</td>\n",
       "      <td>1.0</td>\n",
       "      <td>1.0</td>\n",
       "      <td>1.0</td>\n",
       "      <td>1.581978e+07</td>\n",
       "      <td>1.0</td>\n",
       "      <td>2.00000</td>\n",
       "      <td>2008</td>\n",
       "      <td>2008</td>\n",
       "      <td>14.41045</td>\n",
       "      <td>13.0</td>\n",
       "    </tr>\n",
       "    <tr>\n",
       "      <th>13</th>\n",
       "      <td>1001</td>\n",
       "      <td>FriendFeed</td>\n",
       "      <td>web</td>\n",
       "      <td>acquired</td>\n",
       "      <td>2007</td>\n",
       "      <td>2021.0</td>\n",
       "      <td>USA</td>\n",
       "      <td>1.0</td>\n",
       "      <td>1.0</td>\n",
       "      <td>1.0</td>\n",
       "      <td>5.000000e+06</td>\n",
       "      <td>3.0</td>\n",
       "      <td>14.00000</td>\n",
       "      <td>2007</td>\n",
       "      <td>2013</td>\n",
       "      <td>9.50000</td>\n",
       "      <td>14.0</td>\n",
       "    </tr>\n",
       "  </tbody>\n",
       "</table>\n",
       "</div>"
      ],
      "text/plain": [
       "    entity_id                    name category_code     status  founded_at  \\\n",
       "0           1                Wetpaint           web  operating        2005   \n",
       "5       10002          Synergie Media   advertising  operating        2007   \n",
       "6       10003  Green Basti Ecosystems     cleantech  operating        2008   \n",
       "12      10009         dimension5 labs   advertising  operating        2008   \n",
       "13       1001              FriendFeed           web   acquired        2007   \n",
       "\n",
       "    closed_at country_code  investment_rounds  invested_companies  \\\n",
       "0      2021.0          USA                1.0                 1.0   \n",
       "5      2021.0          MAR                1.0                 1.0   \n",
       "6      2021.0          IND                1.0                 1.0   \n",
       "12     2021.0          USA                1.0                 1.0   \n",
       "13     2021.0          USA                1.0                 1.0   \n",
       "\n",
       "    funding_rounds  funding_total_usd  milestones  relationships  created_at  \\\n",
       "0              3.0       3.975000e+07         5.0       17.00000        2007   \n",
       "5              1.0       1.581978e+07         1.0        2.00000        2008   \n",
       "6              1.0       1.581978e+07         1.0        4.43465        2008   \n",
       "12             1.0       1.581978e+07         1.0        2.00000        2008   \n",
       "13             1.0       5.000000e+06         3.0       14.00000        2007   \n",
       "\n",
       "    updated_at       ROI  companies_age  \n",
       "0         2013  15.50000           16.0  \n",
       "5         2008  14.41045           14.0  \n",
       "6         2010  14.41045           13.0  \n",
       "12        2008  14.41045           13.0  \n",
       "13        2013   9.50000           14.0  "
      ]
     },
     "execution_count": 26,
     "metadata": {},
     "output_type": "execute_result"
    }
   ],
   "source": [
    "data.head()"
   ]
  },
  {
   "cell_type": "code",
   "execution_count": 27,
   "id": "c2649480",
   "metadata": {},
   "outputs": [
    {
     "data": {
      "text/plain": [
       "120.0"
      ]
     },
     "execution_count": 27,
     "metadata": {},
     "output_type": "execute_result"
    }
   ],
   "source": [
    "data['companies_age'].max()"
   ]
  },
  {
   "cell_type": "code",
   "execution_count": 28,
   "id": "f9374a30",
   "metadata": {},
   "outputs": [
    {
     "data": {
      "text/plain": [
       "entity_id             0\n",
       "name                  0\n",
       "category_code         0\n",
       "status                0\n",
       "founded_at            0\n",
       "closed_at             0\n",
       "country_code          0\n",
       "investment_rounds     0\n",
       "invested_companies    0\n",
       "funding_rounds        0\n",
       "funding_total_usd     0\n",
       "milestones            0\n",
       "relationships         0\n",
       "created_at            0\n",
       "updated_at            0\n",
       "ROI                   0\n",
       "companies_age         0\n",
       "dtype: int64"
      ]
     },
     "execution_count": 28,
     "metadata": {},
     "output_type": "execute_result"
    }
   ],
   "source": [
    "data.isna().sum()"
   ]
  },
  {
   "cell_type": "markdown",
   "id": "efb354f8",
   "metadata": {},
   "source": [
    "There are no null values present in our cleaned dataset."
   ]
  },
  {
   "cell_type": "code",
   "execution_count": 29,
   "id": "5ed3721f",
   "metadata": {},
   "outputs": [],
   "source": [
    "data.reset_index(inplace = True)"
   ]
  },
  {
   "cell_type": "markdown",
   "id": "dfac79c4",
   "metadata": {},
   "source": [
    "As dropping null values from dataset, the indexes are distrubted so using reset_index() to reset the index."
   ]
  },
  {
   "cell_type": "markdown",
   "id": "587dcbc2",
   "metadata": {},
   "source": [
    "Final dataset shape is (64094, 18)"
   ]
  },
  {
   "cell_type": "markdown",
   "id": "dd7163be",
   "metadata": {},
   "source": [
    "## Correlation :"
   ]
  },
  {
   "cell_type": "markdown",
   "id": "b3f7e914",
   "metadata": {},
   "source": [
    "Correlation between the columns in our dataset using heatmap.\n",
    "- Investment Round and Invested Companies columns are highly correlated columns, and we can drop any of the column further.\n",
    "- Founted at and Companies age columns are also highly correlated columns."
   ]
  },
  {
   "cell_type": "markdown",
   "id": "0a2c822a",
   "metadata": {},
   "source": [
    "## Normal Distribution :"
   ]
  },
  {
   "cell_type": "code",
   "execution_count": 30,
   "id": "c32438f2",
   "metadata": {
    "scrolled": true
   },
   "outputs": [
    {
     "data": {
      "image/png": "[encoded data removed]",
      "text/plain": [
       "<Figure size 720x360 with 2 Axes>"
      ]
     },
     "metadata": {
      "needs_background": "light"
     },
     "output_type": "display_data"
    },
    {
     "data": {
      "image/png": "[encoded data removed]",
      "text/plain": [
       "<Figure size 720x360 with 2 Axes>"
      ]
     },
     "metadata": {
      "needs_background": "light"
     },
     "output_type": "display_data"
    },
    {
     "data": {
      "image/png": "[encoded data removed]",
      "text/plain": [
       "<Figure size 720x360 with 2 Axes>"
      ]
     },
     "metadata": {
      "needs_background": "light"
     },
     "output_type": "display_data"
    },
    {
     "data": {
      "image/png": "[encoded data removed]",
      "text/plain": [
       "<Figure size 720x360 with 2 Axes>"
      ]
     },
     "metadata": {
      "needs_background": "light"
     },
     "output_type": "display_data"
    },
    {
     "data": {
      "image/png": "[encoded data removed]",
      "text/plain": [
       "<Figure size 720x360 with 2 Axes>"
      ]
     },
     "metadata": {
      "needs_background": "light"
     },
     "output_type": "display_data"
    },
    {
     "data": {
      "image/png": "[encoded data removed]",
      "text/plain": [
       "<Figure size 720x360 with 2 Axes>"
      ]
     },
     "metadata": {
      "needs_background": "light"
     },
     "output_type": "display_data"
    },
    {
     "data": {
      "image/png": "[encoded data removed]",
      "text/plain": [
       "<Figure size 720x360 with 2 Axes>"
      ]
     },
     "metadata": {
      "needs_background": "light"
     },
     "output_type": "display_data"
    },
    {
     "name": "stdout",
     "output_type": "stream",
     "text": [
      "(64094, 18)\n"
     ]
    }
   ],
   "source": [
    "def check_outliers(x):\n",
    "    global data\n",
    "    fig, axes = plt.subplots(1,2,figsize=(10,5))\n",
    "    sns.distplot(data[x],color='#22b199',ax=axes[0])\n",
    "    sns.boxplot(y=data[x],color='#22b199',ax=axes[1])\n",
    "    axes[0].set_title('Distribution of ' + x)\n",
    "    axes[1].set_title('Box plot of '+ x)\n",
    "    plt.tight_layout()\n",
    "    plt.show()\n",
    "\n",
    "for i in ['investment_rounds','milestones', 'relationships', 'ROI', 'funding_rounds' ,'funding_total_usd','companies_age']:\n",
    "    check_outliers(i)\n",
    "    \n",
    "print(data.shape)"
   ]
  },
  {
   "cell_type": "markdown",
   "id": "1c32a863",
   "metadata": {},
   "source": [
    "- Dataset is not normally distributed.\n",
    "- Dataset is very much skewed.\n",
    "- Dataset will also have many outliers."
   ]
  },
  {
   "cell_type": "markdown",
   "id": "8ff99a7c",
   "metadata": {},
   "source": [
    "## Before Removing Outliers:"
   ]
  },
  {
   "cell_type": "code",
   "execution_count": 31,
   "id": "f369921c",
   "metadata": {
    "scrolled": false
   },
   "outputs": [
    {
     "data": {
      "text/html": [
       "<div>\n",
       "<style scoped>\n",
       "    .dataframe tbody tr th:only-of-type {\n",
       "        vertical-align: middle;\n",
       "    }\n",
       "\n",
       "    .dataframe tbody tr th {\n",
       "        vertical-align: top;\n",
       "    }\n",
       "\n",
       "    .dataframe thead th {\n",
       "        text-align: right;\n",
       "    }\n",
       "</style>\n",
       "<table border=\"1\" class=\"dataframe\">\n",
       "  <thead>\n",
       "    <tr style=\"text-align: right;\">\n",
       "      <th></th>\n",
       "      <th>funding_total_usd</th>\n",
       "      <th>funding_rounds</th>\n",
       "    </tr>\n",
       "  </thead>\n",
       "  <tbody>\n",
       "    <tr>\n",
       "      <th>count</th>\n",
       "      <td>6.409400e+04</td>\n",
       "      <td>64094.000000</td>\n",
       "    </tr>\n",
       "    <tr>\n",
       "      <th>mean</th>\n",
       "      <td>1.581978e+07</td>\n",
       "      <td>1.287749</td>\n",
       "    </tr>\n",
       "    <tr>\n",
       "      <th>std</th>\n",
       "      <td>3.950322e+07</td>\n",
       "      <td>0.873294</td>\n",
       "    </tr>\n",
       "    <tr>\n",
       "      <th>min</th>\n",
       "      <td>2.910000e+02</td>\n",
       "      <td>1.000000</td>\n",
       "    </tr>\n",
       "    <tr>\n",
       "      <th>25%</th>\n",
       "      <td>1.500000e+07</td>\n",
       "      <td>1.000000</td>\n",
       "    </tr>\n",
       "    <tr>\n",
       "      <th>50%</th>\n",
       "      <td>1.581978e+07</td>\n",
       "      <td>1.000000</td>\n",
       "    </tr>\n",
       "    <tr>\n",
       "      <th>75%</th>\n",
       "      <td>1.581978e+07</td>\n",
       "      <td>1.000000</td>\n",
       "    </tr>\n",
       "    <tr>\n",
       "      <th>max</th>\n",
       "      <td>5.700000e+09</td>\n",
       "      <td>15.000000</td>\n",
       "    </tr>\n",
       "  </tbody>\n",
       "</table>\n",
       "</div>"
      ],
      "text/plain": [
       "       funding_total_usd  funding_rounds\n",
       "count       6.409400e+04    64094.000000\n",
       "mean        1.581978e+07        1.287749\n",
       "std         3.950322e+07        0.873294\n",
       "min         2.910000e+02        1.000000\n",
       "25%         1.500000e+07        1.000000\n",
       "50%         1.581978e+07        1.000000\n",
       "75%         1.581978e+07        1.000000\n",
       "max         5.700000e+09       15.000000"
      ]
     },
     "execution_count": 31,
     "metadata": {},
     "output_type": "execute_result"
    }
   ],
   "source": [
    "data[['funding_total_usd','funding_rounds']].describe()"
   ]
  },
  {
   "cell_type": "code",
   "execution_count": 32,
   "id": "fd90c08a",
   "metadata": {},
   "outputs": [],
   "source": [
    "q1 = data.quantile(0.25)\n",
    "q3 = data.quantile(0.75)\n",
    "iqr = q3 - q1"
   ]
  },
  {
   "cell_type": "code",
   "execution_count": 33,
   "id": "7e537281",
   "metadata": {},
   "outputs": [
    {
     "name": "stdout",
     "output_type": "stream",
     "text": [
      "17049455.46631492\n",
      "(array([    0,     7,    10, ..., 64031, 64065, 64078], dtype=int64),)\n",
      "(60069, 18)\n"
     ]
    },
    {
     "data": {
      "text/html": [
       "<div>\n",
       "<style scoped>\n",
       "    .dataframe tbody tr th:only-of-type {\n",
       "        vertical-align: middle;\n",
       "    }\n",
       "\n",
       "    .dataframe tbody tr th {\n",
       "        vertical-align: top;\n",
       "    }\n",
       "\n",
       "    .dataframe thead th {\n",
       "        text-align: right;\n",
       "    }\n",
       "</style>\n",
       "<table border=\"1\" class=\"dataframe\">\n",
       "  <thead>\n",
       "    <tr style=\"text-align: right;\">\n",
       "      <th></th>\n",
       "      <th>level_0</th>\n",
       "      <th>index</th>\n",
       "      <th>entity_id</th>\n",
       "      <th>name</th>\n",
       "      <th>category_code</th>\n",
       "      <th>status</th>\n",
       "      <th>founded_at</th>\n",
       "      <th>closed_at</th>\n",
       "      <th>country_code</th>\n",
       "      <th>investment_rounds</th>\n",
       "      <th>invested_companies</th>\n",
       "      <th>funding_rounds</th>\n",
       "      <th>funding_total_usd</th>\n",
       "      <th>milestones</th>\n",
       "      <th>relationships</th>\n",
       "      <th>created_at</th>\n",
       "      <th>updated_at</th>\n",
       "      <th>ROI</th>\n",
       "      <th>companies_age</th>\n",
       "    </tr>\n",
       "  </thead>\n",
       "  <tbody>\n",
       "    <tr>\n",
       "      <th>0</th>\n",
       "      <td>1</td>\n",
       "      <td>5</td>\n",
       "      <td>10002</td>\n",
       "      <td>Synergie Media</td>\n",
       "      <td>advertising</td>\n",
       "      <td>operating</td>\n",
       "      <td>2007</td>\n",
       "      <td>2021.0</td>\n",
       "      <td>MAR</td>\n",
       "      <td>1.0</td>\n",
       "      <td>1.0</td>\n",
       "      <td>1.0</td>\n",
       "      <td>1.581978e+07</td>\n",
       "      <td>1.0</td>\n",
       "      <td>2.00000</td>\n",
       "      <td>2008</td>\n",
       "      <td>2008</td>\n",
       "      <td>14.41045</td>\n",
       "      <td>14.0</td>\n",
       "    </tr>\n",
       "    <tr>\n",
       "      <th>1</th>\n",
       "      <td>2</td>\n",
       "      <td>6</td>\n",
       "      <td>10003</td>\n",
       "      <td>Green Basti Ecosystems</td>\n",
       "      <td>cleantech</td>\n",
       "      <td>operating</td>\n",
       "      <td>2008</td>\n",
       "      <td>2021.0</td>\n",
       "      <td>IND</td>\n",
       "      <td>1.0</td>\n",
       "      <td>1.0</td>\n",
       "      <td>1.0</td>\n",
       "      <td>1.581978e+07</td>\n",
       "      <td>1.0</td>\n",
       "      <td>4.43465</td>\n",
       "      <td>2008</td>\n",
       "      <td>2010</td>\n",
       "      <td>14.41045</td>\n",
       "      <td>13.0</td>\n",
       "    </tr>\n",
       "    <tr>\n",
       "      <th>2</th>\n",
       "      <td>3</td>\n",
       "      <td>12</td>\n",
       "      <td>10009</td>\n",
       "      <td>dimension5 labs</td>\n",
       "      <td>advertising</td>\n",
       "      <td>operating</td>\n",
       "      <td>2008</td>\n",
       "      <td>2021.0</td>\n",
       "      <td>USA</td>\n",
       "      <td>1.0</td>\n",
       "      <td>1.0</td>\n",
       "      <td>1.0</td>\n",
       "      <td>1.581978e+07</td>\n",
       "      <td>1.0</td>\n",
       "      <td>2.00000</td>\n",
       "      <td>2008</td>\n",
       "      <td>2008</td>\n",
       "      <td>14.41045</td>\n",
       "      <td>13.0</td>\n",
       "    </tr>\n",
       "    <tr>\n",
       "      <th>3</th>\n",
       "      <td>4</td>\n",
       "      <td>13</td>\n",
       "      <td>1001</td>\n",
       "      <td>FriendFeed</td>\n",
       "      <td>web</td>\n",
       "      <td>acquired</td>\n",
       "      <td>2007</td>\n",
       "      <td>2021.0</td>\n",
       "      <td>USA</td>\n",
       "      <td>1.0</td>\n",
       "      <td>1.0</td>\n",
       "      <td>1.0</td>\n",
       "      <td>5.000000e+06</td>\n",
       "      <td>3.0</td>\n",
       "      <td>14.00000</td>\n",
       "      <td>2007</td>\n",
       "      <td>2013</td>\n",
       "      <td>9.50000</td>\n",
       "      <td>14.0</td>\n",
       "    </tr>\n",
       "    <tr>\n",
       "      <th>4</th>\n",
       "      <td>5</td>\n",
       "      <td>15</td>\n",
       "      <td>10011</td>\n",
       "      <td>PoetryVisualized.com</td>\n",
       "      <td>games_video</td>\n",
       "      <td>operating</td>\n",
       "      <td>2008</td>\n",
       "      <td>2021.0</td>\n",
       "      <td>USA</td>\n",
       "      <td>1.0</td>\n",
       "      <td>1.0</td>\n",
       "      <td>1.0</td>\n",
       "      <td>1.581978e+07</td>\n",
       "      <td>1.0</td>\n",
       "      <td>3.00000</td>\n",
       "      <td>2008</td>\n",
       "      <td>2009</td>\n",
       "      <td>14.41045</td>\n",
       "      <td>13.0</td>\n",
       "    </tr>\n",
       "    <tr>\n",
       "      <th>...</th>\n",
       "      <td>...</td>\n",
       "      <td>...</td>\n",
       "      <td>...</td>\n",
       "      <td>...</td>\n",
       "      <td>...</td>\n",
       "      <td>...</td>\n",
       "      <td>...</td>\n",
       "      <td>...</td>\n",
       "      <td>...</td>\n",
       "      <td>...</td>\n",
       "      <td>...</td>\n",
       "      <td>...</td>\n",
       "      <td>...</td>\n",
       "      <td>...</td>\n",
       "      <td>...</td>\n",
       "      <td>...</td>\n",
       "      <td>...</td>\n",
       "      <td>...</td>\n",
       "      <td>...</td>\n",
       "    </tr>\n",
       "    <tr>\n",
       "      <th>60064</th>\n",
       "      <td>64089</td>\n",
       "      <td>196548</td>\n",
       "      <td>99940</td>\n",
       "      <td>Webgility</td>\n",
       "      <td>ecommerce</td>\n",
       "      <td>operating</td>\n",
       "      <td>2007</td>\n",
       "      <td>2021.0</td>\n",
       "      <td>USA</td>\n",
       "      <td>1.0</td>\n",
       "      <td>1.0</td>\n",
       "      <td>1.0</td>\n",
       "      <td>1.581978e+07</td>\n",
       "      <td>2.0</td>\n",
       "      <td>5.00000</td>\n",
       "      <td>2011</td>\n",
       "      <td>2013</td>\n",
       "      <td>14.41045</td>\n",
       "      <td>14.0</td>\n",
       "    </tr>\n",
       "    <tr>\n",
       "      <th>60065</th>\n",
       "      <td>64090</td>\n",
       "      <td>196549</td>\n",
       "      <td>9995</td>\n",
       "      <td>FohBoh</td>\n",
       "      <td>public_relations</td>\n",
       "      <td>operating</td>\n",
       "      <td>2007</td>\n",
       "      <td>2021.0</td>\n",
       "      <td>USA</td>\n",
       "      <td>1.0</td>\n",
       "      <td>1.0</td>\n",
       "      <td>1.0</td>\n",
       "      <td>7.500000e+05</td>\n",
       "      <td>1.0</td>\n",
       "      <td>14.00000</td>\n",
       "      <td>2008</td>\n",
       "      <td>2013</td>\n",
       "      <td>14.41045</td>\n",
       "      <td>14.0</td>\n",
       "    </tr>\n",
       "    <tr>\n",
       "      <th>60066</th>\n",
       "      <td>64091</td>\n",
       "      <td>196550</td>\n",
       "      <td>9996</td>\n",
       "      <td>CSC</td>\n",
       "      <td>consulting</td>\n",
       "      <td>operating</td>\n",
       "      <td>1959</td>\n",
       "      <td>2021.0</td>\n",
       "      <td>USA</td>\n",
       "      <td>1.0</td>\n",
       "      <td>1.0</td>\n",
       "      <td>1.0</td>\n",
       "      <td>1.581978e+07</td>\n",
       "      <td>3.0</td>\n",
       "      <td>44.00000</td>\n",
       "      <td>2008</td>\n",
       "      <td>2013</td>\n",
       "      <td>14.41045</td>\n",
       "      <td>62.0</td>\n",
       "    </tr>\n",
       "    <tr>\n",
       "      <th>60067</th>\n",
       "      <td>64092</td>\n",
       "      <td>196551</td>\n",
       "      <td>9997</td>\n",
       "      <td>Top-candidate</td>\n",
       "      <td>search</td>\n",
       "      <td>operating</td>\n",
       "      <td>2008</td>\n",
       "      <td>2021.0</td>\n",
       "      <td>USA</td>\n",
       "      <td>1.0</td>\n",
       "      <td>1.0</td>\n",
       "      <td>1.0</td>\n",
       "      <td>1.581978e+07</td>\n",
       "      <td>1.0</td>\n",
       "      <td>1.00000</td>\n",
       "      <td>2008</td>\n",
       "      <td>2013</td>\n",
       "      <td>14.41045</td>\n",
       "      <td>13.0</td>\n",
       "    </tr>\n",
       "    <tr>\n",
       "      <th>60068</th>\n",
       "      <td>64093</td>\n",
       "      <td>196552</td>\n",
       "      <td>9998</td>\n",
       "      <td>Closet Couture</td>\n",
       "      <td>ecommerce</td>\n",
       "      <td>operating</td>\n",
       "      <td>2007</td>\n",
       "      <td>2021.0</td>\n",
       "      <td>USA</td>\n",
       "      <td>1.0</td>\n",
       "      <td>1.0</td>\n",
       "      <td>1.0</td>\n",
       "      <td>4.750000e+05</td>\n",
       "      <td>2.0</td>\n",
       "      <td>1.00000</td>\n",
       "      <td>2008</td>\n",
       "      <td>2013</td>\n",
       "      <td>14.41045</td>\n",
       "      <td>14.0</td>\n",
       "    </tr>\n",
       "  </tbody>\n",
       "</table>\n",
       "<p>60069 rows × 19 columns</p>\n",
       "</div>"
      ],
      "text/plain": [
       "       level_0   index  entity_id                    name     category_code  \\\n",
       "0            1       5      10002          Synergie Media       advertising   \n",
       "1            2       6      10003  Green Basti Ecosystems         cleantech   \n",
       "2            3      12      10009         dimension5 labs       advertising   \n",
       "3            4      13       1001              FriendFeed               web   \n",
       "4            5      15      10011    PoetryVisualized.com       games_video   \n",
       "...        ...     ...        ...                     ...               ...   \n",
       "60064    64089  196548      99940               Webgility         ecommerce   \n",
       "60065    64090  196549       9995                  FohBoh  public_relations   \n",
       "60066    64091  196550       9996                     CSC        consulting   \n",
       "60067    64092  196551       9997           Top-candidate            search   \n",
       "60068    64093  196552       9998          Closet Couture         ecommerce   \n",
       "\n",
       "          status  founded_at  closed_at country_code  investment_rounds  \\\n",
       "0      operating        2007     2021.0          MAR                1.0   \n",
       "1      operating        2008     2021.0          IND                1.0   \n",
       "2      operating        2008     2021.0          USA                1.0   \n",
       "3       acquired        2007     2021.0          USA                1.0   \n",
       "4      operating        2008     2021.0          USA                1.0   \n",
       "...          ...         ...        ...          ...                ...   \n",
       "60064  operating        2007     2021.0          USA                1.0   \n",
       "60065  operating        2007     2021.0          USA                1.0   \n",
       "60066  operating        1959     2021.0          USA                1.0   \n",
       "60067  operating        2008     2021.0          USA                1.0   \n",
       "60068  operating        2007     2021.0          USA                1.0   \n",
       "\n",
       "       invested_companies  funding_rounds  funding_total_usd  milestones  \\\n",
       "0                     1.0             1.0       1.581978e+07         1.0   \n",
       "1                     1.0             1.0       1.581978e+07         1.0   \n",
       "2                     1.0             1.0       1.581978e+07         1.0   \n",
       "3                     1.0             1.0       5.000000e+06         3.0   \n",
       "4                     1.0             1.0       1.581978e+07         1.0   \n",
       "...                   ...             ...                ...         ...   \n",
       "60064                 1.0             1.0       1.581978e+07         2.0   \n",
       "60065                 1.0             1.0       7.500000e+05         1.0   \n",
       "60066                 1.0             1.0       1.581978e+07         3.0   \n",
       "60067                 1.0             1.0       1.581978e+07         1.0   \n",
       "60068                 1.0             1.0       4.750000e+05         2.0   \n",
       "\n",
       "       relationships  created_at  updated_at       ROI  companies_age  \n",
       "0            2.00000        2008        2008  14.41045           14.0  \n",
       "1            4.43465        2008        2010  14.41045           13.0  \n",
       "2            2.00000        2008        2008  14.41045           13.0  \n",
       "3           14.00000        2007        2013   9.50000           14.0  \n",
       "4            3.00000        2008        2009  14.41045           13.0  \n",
       "...              ...         ...         ...       ...            ...  \n",
       "60064        5.00000        2011        2013  14.41045           14.0  \n",
       "60065       14.00000        2008        2013  14.41045           14.0  \n",
       "60066       44.00000        2008        2013  14.41045           62.0  \n",
       "60067        1.00000        2008        2013  14.41045           13.0  \n",
       "60068        1.00000        2008        2013  14.41045           14.0  \n",
       "\n",
       "[60069 rows x 19 columns]"
      ]
     },
     "execution_count": 33,
     "metadata": {},
     "output_type": "execute_result"
    }
   ],
   "source": [
    "high = (q3.funding_total_usd + (1.5 * iqr.funding_total_usd))\n",
    "print(high)\n",
    "\n",
    "index = np.where(data['funding_total_usd'] > high)\n",
    "print(index)\n",
    "\n",
    "data = data.drop(data.index[index])\n",
    "print(data.shape)\n",
    "\n",
    "data.reset_index()"
   ]
  },
  {
   "cell_type": "code",
   "execution_count": 34,
   "id": "0df2e2ff",
   "metadata": {},
   "outputs": [
    {
     "name": "stdout",
     "output_type": "stream",
     "text": [
      "1.0\n",
      "(array([], dtype=int64),)\n",
      "(60069, 18)\n"
     ]
    },
    {
     "data": {
      "text/html": [
       "<div>\n",
       "<style scoped>\n",
       "    .dataframe tbody tr th:only-of-type {\n",
       "        vertical-align: middle;\n",
       "    }\n",
       "\n",
       "    .dataframe tbody tr th {\n",
       "        vertical-align: top;\n",
       "    }\n",
       "\n",
       "    .dataframe thead th {\n",
       "        text-align: right;\n",
       "    }\n",
       "</style>\n",
       "<table border=\"1\" class=\"dataframe\">\n",
       "  <thead>\n",
       "    <tr style=\"text-align: right;\">\n",
       "      <th></th>\n",
       "      <th>level_0</th>\n",
       "      <th>index</th>\n",
       "      <th>entity_id</th>\n",
       "      <th>name</th>\n",
       "      <th>category_code</th>\n",
       "      <th>status</th>\n",
       "      <th>founded_at</th>\n",
       "      <th>closed_at</th>\n",
       "      <th>country_code</th>\n",
       "      <th>investment_rounds</th>\n",
       "      <th>invested_companies</th>\n",
       "      <th>funding_rounds</th>\n",
       "      <th>funding_total_usd</th>\n",
       "      <th>milestones</th>\n",
       "      <th>relationships</th>\n",
       "      <th>created_at</th>\n",
       "      <th>updated_at</th>\n",
       "      <th>ROI</th>\n",
       "      <th>companies_age</th>\n",
       "    </tr>\n",
       "  </thead>\n",
       "  <tbody>\n",
       "    <tr>\n",
       "      <th>0</th>\n",
       "      <td>1</td>\n",
       "      <td>5</td>\n",
       "      <td>10002</td>\n",
       "      <td>Synergie Media</td>\n",
       "      <td>advertising</td>\n",
       "      <td>operating</td>\n",
       "      <td>2007</td>\n",
       "      <td>2021.0</td>\n",
       "      <td>MAR</td>\n",
       "      <td>1.0</td>\n",
       "      <td>1.0</td>\n",
       "      <td>1.0</td>\n",
       "      <td>1.581978e+07</td>\n",
       "      <td>1.0</td>\n",
       "      <td>2.00000</td>\n",
       "      <td>2008</td>\n",
       "      <td>2008</td>\n",
       "      <td>14.41045</td>\n",
       "      <td>14.0</td>\n",
       "    </tr>\n",
       "    <tr>\n",
       "      <th>1</th>\n",
       "      <td>2</td>\n",
       "      <td>6</td>\n",
       "      <td>10003</td>\n",
       "      <td>Green Basti Ecosystems</td>\n",
       "      <td>cleantech</td>\n",
       "      <td>operating</td>\n",
       "      <td>2008</td>\n",
       "      <td>2021.0</td>\n",
       "      <td>IND</td>\n",
       "      <td>1.0</td>\n",
       "      <td>1.0</td>\n",
       "      <td>1.0</td>\n",
       "      <td>1.581978e+07</td>\n",
       "      <td>1.0</td>\n",
       "      <td>4.43465</td>\n",
       "      <td>2008</td>\n",
       "      <td>2010</td>\n",
       "      <td>14.41045</td>\n",
       "      <td>13.0</td>\n",
       "    </tr>\n",
       "    <tr>\n",
       "      <th>2</th>\n",
       "      <td>3</td>\n",
       "      <td>12</td>\n",
       "      <td>10009</td>\n",
       "      <td>dimension5 labs</td>\n",
       "      <td>advertising</td>\n",
       "      <td>operating</td>\n",
       "      <td>2008</td>\n",
       "      <td>2021.0</td>\n",
       "      <td>USA</td>\n",
       "      <td>1.0</td>\n",
       "      <td>1.0</td>\n",
       "      <td>1.0</td>\n",
       "      <td>1.581978e+07</td>\n",
       "      <td>1.0</td>\n",
       "      <td>2.00000</td>\n",
       "      <td>2008</td>\n",
       "      <td>2008</td>\n",
       "      <td>14.41045</td>\n",
       "      <td>13.0</td>\n",
       "    </tr>\n",
       "    <tr>\n",
       "      <th>3</th>\n",
       "      <td>4</td>\n",
       "      <td>13</td>\n",
       "      <td>1001</td>\n",
       "      <td>FriendFeed</td>\n",
       "      <td>web</td>\n",
       "      <td>acquired</td>\n",
       "      <td>2007</td>\n",
       "      <td>2021.0</td>\n",
       "      <td>USA</td>\n",
       "      <td>1.0</td>\n",
       "      <td>1.0</td>\n",
       "      <td>1.0</td>\n",
       "      <td>5.000000e+06</td>\n",
       "      <td>3.0</td>\n",
       "      <td>14.00000</td>\n",
       "      <td>2007</td>\n",
       "      <td>2013</td>\n",
       "      <td>9.50000</td>\n",
       "      <td>14.0</td>\n",
       "    </tr>\n",
       "    <tr>\n",
       "      <th>4</th>\n",
       "      <td>5</td>\n",
       "      <td>15</td>\n",
       "      <td>10011</td>\n",
       "      <td>PoetryVisualized.com</td>\n",
       "      <td>games_video</td>\n",
       "      <td>operating</td>\n",
       "      <td>2008</td>\n",
       "      <td>2021.0</td>\n",
       "      <td>USA</td>\n",
       "      <td>1.0</td>\n",
       "      <td>1.0</td>\n",
       "      <td>1.0</td>\n",
       "      <td>1.581978e+07</td>\n",
       "      <td>1.0</td>\n",
       "      <td>3.00000</td>\n",
       "      <td>2008</td>\n",
       "      <td>2009</td>\n",
       "      <td>14.41045</td>\n",
       "      <td>13.0</td>\n",
       "    </tr>\n",
       "    <tr>\n",
       "      <th>...</th>\n",
       "      <td>...</td>\n",
       "      <td>...</td>\n",
       "      <td>...</td>\n",
       "      <td>...</td>\n",
       "      <td>...</td>\n",
       "      <td>...</td>\n",
       "      <td>...</td>\n",
       "      <td>...</td>\n",
       "      <td>...</td>\n",
       "      <td>...</td>\n",
       "      <td>...</td>\n",
       "      <td>...</td>\n",
       "      <td>...</td>\n",
       "      <td>...</td>\n",
       "      <td>...</td>\n",
       "      <td>...</td>\n",
       "      <td>...</td>\n",
       "      <td>...</td>\n",
       "      <td>...</td>\n",
       "    </tr>\n",
       "    <tr>\n",
       "      <th>60064</th>\n",
       "      <td>64089</td>\n",
       "      <td>196548</td>\n",
       "      <td>99940</td>\n",
       "      <td>Webgility</td>\n",
       "      <td>ecommerce</td>\n",
       "      <td>operating</td>\n",
       "      <td>2007</td>\n",
       "      <td>2021.0</td>\n",
       "      <td>USA</td>\n",
       "      <td>1.0</td>\n",
       "      <td>1.0</td>\n",
       "      <td>1.0</td>\n",
       "      <td>1.581978e+07</td>\n",
       "      <td>2.0</td>\n",
       "      <td>5.00000</td>\n",
       "      <td>2011</td>\n",
       "      <td>2013</td>\n",
       "      <td>14.41045</td>\n",
       "      <td>14.0</td>\n",
       "    </tr>\n",
       "    <tr>\n",
       "      <th>60065</th>\n",
       "      <td>64090</td>\n",
       "      <td>196549</td>\n",
       "      <td>9995</td>\n",
       "      <td>FohBoh</td>\n",
       "      <td>public_relations</td>\n",
       "      <td>operating</td>\n",
       "      <td>2007</td>\n",
       "      <td>2021.0</td>\n",
       "      <td>USA</td>\n",
       "      <td>1.0</td>\n",
       "      <td>1.0</td>\n",
       "      <td>1.0</td>\n",
       "      <td>7.500000e+05</td>\n",
       "      <td>1.0</td>\n",
       "      <td>14.00000</td>\n",
       "      <td>2008</td>\n",
       "      <td>2013</td>\n",
       "      <td>14.41045</td>\n",
       "      <td>14.0</td>\n",
       "    </tr>\n",
       "    <tr>\n",
       "      <th>60066</th>\n",
       "      <td>64091</td>\n",
       "      <td>196550</td>\n",
       "      <td>9996</td>\n",
       "      <td>CSC</td>\n",
       "      <td>consulting</td>\n",
       "      <td>operating</td>\n",
       "      <td>1959</td>\n",
       "      <td>2021.0</td>\n",
       "      <td>USA</td>\n",
       "      <td>1.0</td>\n",
       "      <td>1.0</td>\n",
       "      <td>1.0</td>\n",
       "      <td>1.581978e+07</td>\n",
       "      <td>3.0</td>\n",
       "      <td>44.00000</td>\n",
       "      <td>2008</td>\n",
       "      <td>2013</td>\n",
       "      <td>14.41045</td>\n",
       "      <td>62.0</td>\n",
       "    </tr>\n",
       "    <tr>\n",
       "      <th>60067</th>\n",
       "      <td>64092</td>\n",
       "      <td>196551</td>\n",
       "      <td>9997</td>\n",
       "      <td>Top-candidate</td>\n",
       "      <td>search</td>\n",
       "      <td>operating</td>\n",
       "      <td>2008</td>\n",
       "      <td>2021.0</td>\n",
       "      <td>USA</td>\n",
       "      <td>1.0</td>\n",
       "      <td>1.0</td>\n",
       "      <td>1.0</td>\n",
       "      <td>1.581978e+07</td>\n",
       "      <td>1.0</td>\n",
       "      <td>1.00000</td>\n",
       "      <td>2008</td>\n",
       "      <td>2013</td>\n",
       "      <td>14.41045</td>\n",
       "      <td>13.0</td>\n",
       "    </tr>\n",
       "    <tr>\n",
       "      <th>60068</th>\n",
       "      <td>64093</td>\n",
       "      <td>196552</td>\n",
       "      <td>9998</td>\n",
       "      <td>Closet Couture</td>\n",
       "      <td>ecommerce</td>\n",
       "      <td>operating</td>\n",
       "      <td>2007</td>\n",
       "      <td>2021.0</td>\n",
       "      <td>USA</td>\n",
       "      <td>1.0</td>\n",
       "      <td>1.0</td>\n",
       "      <td>1.0</td>\n",
       "      <td>4.750000e+05</td>\n",
       "      <td>2.0</td>\n",
       "      <td>1.00000</td>\n",
       "      <td>2008</td>\n",
       "      <td>2013</td>\n",
       "      <td>14.41045</td>\n",
       "      <td>14.0</td>\n",
       "    </tr>\n",
       "  </tbody>\n",
       "</table>\n",
       "<p>60069 rows × 19 columns</p>\n",
       "</div>"
      ],
      "text/plain": [
       "       level_0   index  entity_id                    name     category_code  \\\n",
       "0            1       5      10002          Synergie Media       advertising   \n",
       "1            2       6      10003  Green Basti Ecosystems         cleantech   \n",
       "2            3      12      10009         dimension5 labs       advertising   \n",
       "3            4      13       1001              FriendFeed               web   \n",
       "4            5      15      10011    PoetryVisualized.com       games_video   \n",
       "...        ...     ...        ...                     ...               ...   \n",
       "60064    64089  196548      99940               Webgility         ecommerce   \n",
       "60065    64090  196549       9995                  FohBoh  public_relations   \n",
       "60066    64091  196550       9996                     CSC        consulting   \n",
       "60067    64092  196551       9997           Top-candidate            search   \n",
       "60068    64093  196552       9998          Closet Couture         ecommerce   \n",
       "\n",
       "          status  founded_at  closed_at country_code  investment_rounds  \\\n",
       "0      operating        2007     2021.0          MAR                1.0   \n",
       "1      operating        2008     2021.0          IND                1.0   \n",
       "2      operating        2008     2021.0          USA                1.0   \n",
       "3       acquired        2007     2021.0          USA                1.0   \n",
       "4      operating        2008     2021.0          USA                1.0   \n",
       "...          ...         ...        ...          ...                ...   \n",
       "60064  operating        2007     2021.0          USA                1.0   \n",
       "60065  operating        2007     2021.0          USA                1.0   \n",
       "60066  operating        1959     2021.0          USA                1.0   \n",
       "60067  operating        2008     2021.0          USA                1.0   \n",
       "60068  operating        2007     2021.0          USA                1.0   \n",
       "\n",
       "       invested_companies  funding_rounds  funding_total_usd  milestones  \\\n",
       "0                     1.0             1.0       1.581978e+07         1.0   \n",
       "1                     1.0             1.0       1.581978e+07         1.0   \n",
       "2                     1.0             1.0       1.581978e+07         1.0   \n",
       "3                     1.0             1.0       5.000000e+06         3.0   \n",
       "4                     1.0             1.0       1.581978e+07         1.0   \n",
       "...                   ...             ...                ...         ...   \n",
       "60064                 1.0             1.0       1.581978e+07         2.0   \n",
       "60065                 1.0             1.0       7.500000e+05         1.0   \n",
       "60066                 1.0             1.0       1.581978e+07         3.0   \n",
       "60067                 1.0             1.0       1.581978e+07         1.0   \n",
       "60068                 1.0             1.0       4.750000e+05         2.0   \n",
       "\n",
       "       relationships  created_at  updated_at       ROI  companies_age  \n",
       "0            2.00000        2008        2008  14.41045           14.0  \n",
       "1            4.43465        2008        2010  14.41045           13.0  \n",
       "2            2.00000        2008        2008  14.41045           13.0  \n",
       "3           14.00000        2007        2013   9.50000           14.0  \n",
       "4            3.00000        2008        2009  14.41045           13.0  \n",
       "...              ...         ...         ...       ...            ...  \n",
       "60064        5.00000        2011        2013  14.41045           14.0  \n",
       "60065       14.00000        2008        2013  14.41045           14.0  \n",
       "60066       44.00000        2008        2013  14.41045           62.0  \n",
       "60067        1.00000        2008        2013  14.41045           13.0  \n",
       "60068        1.00000        2008        2013  14.41045           14.0  \n",
       "\n",
       "[60069 rows x 19 columns]"
      ]
     },
     "execution_count": 34,
     "metadata": {},
     "output_type": "execute_result"
    }
   ],
   "source": [
    "high_fu = (q3.funding_rounds + (1.5 * iqr.funding_rounds))\n",
    "print(high_fu)\n",
    "\n",
    "index_fu = np.where(data['funding_rounds'] > high)\n",
    "print(index_fu)\n",
    "\n",
    "data = data.drop(data.index[index_fu])\n",
    "print(data.shape)\n",
    "\n",
    "data.reset_index()"
   ]
  },
  {
   "cell_type": "markdown",
   "id": "7b8a6973",
   "metadata": {},
   "source": [
    "## After Removing Outliers:"
   ]
  },
  {
   "cell_type": "code",
   "execution_count": 35,
   "id": "4827228b",
   "metadata": {
    "scrolled": true
   },
   "outputs": [
    {
     "data": {
      "text/plain": [
       "<AxesSubplot:xlabel='funding_total_usd'>"
      ]
     },
     "execution_count": 35,
     "metadata": {},
     "output_type": "execute_result"
    },
    {
     "data": {
      "image/png": "[encoded data removed]",
      "text/plain": [
       "<Figure size 432x288 with 1 Axes>"
      ]
     },
     "metadata": {
      "needs_background": "light"
     },
     "output_type": "display_data"
    }
   ],
   "source": [
    "sns.boxplot(data['funding_total_usd'])"
   ]
  },
  {
   "cell_type": "code",
   "execution_count": 36,
   "id": "8ce29c02",
   "metadata": {
    "scrolled": false
   },
   "outputs": [
    {
     "data": {
      "text/plain": [
       "<AxesSubplot:xlabel='funding_rounds'>"
      ]
     },
     "execution_count": 36,
     "metadata": {},
     "output_type": "execute_result"
    },
    {
     "data": {
      "image/png": "[encoded data removed]",
      "text/plain": [
       "<Figure size 432x288 with 1 Axes>"
      ]
     },
     "metadata": {
      "needs_background": "light"
     },
     "output_type": "display_data"
    }
   ],
   "source": [
    "sns.boxplot(data['funding_rounds'])"
   ]
  },
  {
   "cell_type": "code",
   "execution_count": 37,
   "id": "f2d4f8b7",
   "metadata": {},
   "outputs": [
    {
     "data": {
      "text/plain": [
       "\"def remove_outliers(x):\\n    global data\\n    Q1= data[x].quantile(0.25)\\n    Q3 = data[x].quantile(0.75)\\n    IQR = Q3 - Q1\\n    upper_limit = Q3 + 1.5 * IQR\\n    \\n    index = np.where(data[x] > upper_limit)\\n    data = data.drop(data.index[index])\\n    data.reset_index()\\n        \\n    fig, axes = plt.subplots(1,2,figsize=(10,5))\\n    sns.distplot(data[x],color='#22b199',ax=axes[0])\\n    sns.boxplot(y=data[x],color='#22b199',ax=axes[1])\\n    axes[0].set_title('Distribution of '+ x )\\n    axes[1].set_title('Box plot of '+ x)\\n    plt.tight_layout()\\n    plt.show()\\n\\nfor i in ['investment_rounds','milestones', 'relationships', 'ROI', 'funding_rounds' ,'funding_total_usd','companies_age','invested_companies']:\\n    remove_outliers(i)\\nprint(data.shape)\""
      ]
     },
     "execution_count": 37,
     "metadata": {},
     "output_type": "execute_result"
    }
   ],
   "source": [
    "'''def remove_outliers(x):\n",
    "    global data\n",
    "    Q1= data[x].quantile(0.25)\n",
    "    Q3 = data[x].quantile(0.75)\n",
    "    IQR = Q3 - Q1\n",
    "    upper_limit = Q3 + 1.5 * IQR\n",
    "    \n",
    "    index = np.where(data[x] > upper_limit)\n",
    "    data = data.drop(data.index[index])\n",
    "    data.reset_index()\n",
    "        \n",
    "    fig, axes = plt.subplots(1,2,figsize=(10,5))\n",
    "    sns.distplot(data[x],color='#22b199',ax=axes[0])\n",
    "    sns.boxplot(y=data[x],color='#22b199',ax=axes[1])\n",
    "    axes[0].set_title('Distribution of '+ x )\n",
    "    axes[1].set_title('Box plot of '+ x)\n",
    "    plt.tight_layout()\n",
    "    plt.show()\n",
    "\n",
    "for i in ['investment_rounds','milestones', 'relationships', 'ROI', 'funding_rounds' ,'funding_total_usd','companies_age','invested_companies']:\n",
    "    remove_outliers(i)\n",
    "print(data.shape)'''"
   ]
  },
  {
   "cell_type": "code",
   "execution_count": 38,
   "id": "271bd279",
   "metadata": {},
   "outputs": [
    {
     "data": {
      "text/plain": [
       "\"Q1= data['funding_total_usd'].quantile(0.25)\\nQ3 = data['funding_total_usd'].quantile(0.75)\\nIQR = Q3 - Q1\\nlower_limit = Q1 - 1.5 * IQR\\n    \\nindex = np.where(data['funding_total_usd'] < lower_limit)\\ndata = data.drop(data.index[index])\\ndata.reset_index()\\n        \\nfig, axes = plt.subplots(1,2,figsize=(10,5))\\nsns.distplot(data['funding_total_usd'],color='#22b199',ax=axes[0])\\nsns.boxplot(y=data['funding_total_usd'],color='#22b199',ax=axes[1])\\naxes[0].set_title('Distribution of funding_total_usd without outliers')\\naxes[1].set_title('Box plot of funding_total_usd')\\nplt.tight_layout()\\nplt.show()\\n\\nprint(data.shape)\""
      ]
     },
     "execution_count": 38,
     "metadata": {},
     "output_type": "execute_result"
    }
   ],
   "source": [
    "'''Q1= data['funding_total_usd'].quantile(0.25)\n",
    "Q3 = data['funding_total_usd'].quantile(0.75)\n",
    "IQR = Q3 - Q1\n",
    "lower_limit = Q1 - 1.5 * IQR\n",
    "    \n",
    "index = np.where(data['funding_total_usd'] < lower_limit)\n",
    "data = data.drop(data.index[index])\n",
    "data.reset_index()\n",
    "        \n",
    "fig, axes = plt.subplots(1,2,figsize=(10,5))\n",
    "sns.distplot(data['funding_total_usd'],color='#22b199',ax=axes[0])\n",
    "sns.boxplot(y=data['funding_total_usd'],color='#22b199',ax=axes[1])\n",
    "axes[0].set_title('Distribution of funding_total_usd without outliers')\n",
    "axes[1].set_title('Box plot of funding_total_usd')\n",
    "plt.tight_layout()\n",
    "plt.show()\n",
    "\n",
    "print(data.shape)'''"
   ]
  },
  {
   "cell_type": "markdown",
   "id": "0083a2a1",
   "metadata": {},
   "source": [
    "We are not removing every outliers of our dataset because :\n",
    "1. Removing all outliers will lead to data leakage.\n",
    "2. 2695 rows × 29 columns, is the shape of our dataset, after removing the outliers.\n",
    "3. Its also not giving the best accuracy for the model.\n",
    "4. For RandomForest Model the accuracy is approx. 75%\n",
    "5. For KNN Model the accuracy is approx. 70%"
   ]
  },
  {
   "cell_type": "markdown",
   "id": "f67c276a",
   "metadata": {},
   "source": [
    "## Encoding :"
   ]
  },
  {
   "cell_type": "markdown",
   "id": "c4d68b85",
   "metadata": {},
   "source": [
    "**- Encoding the Category Code column by replace method.**"
   ]
  },
  {
   "cell_type": "code",
   "execution_count": 39,
   "id": "9f3b91f7",
   "metadata": {
    "scrolled": true
   },
   "outputs": [
    {
     "data": {
      "text/plain": [
       "software            10948\n",
       "web                  7878\n",
       "ecommerce            4885\n",
       "other                4769\n",
       "mobile               3716\n",
       "advertising          3583\n",
       "consulting           2804\n",
       "games_video          2789\n",
       "enterprise           2449\n",
       "biotech              1911\n",
       "public_relations     1545\n",
       "hardware             1413\n",
       "network_hosting      1240\n",
       "education            1157\n",
       "search                975\n",
       "cleantech             755\n",
       "social                655\n",
       "analytics             648\n",
       "finance               636\n",
       "security              603\n",
       "health                595\n",
       "legal                 369\n",
       "medical               337\n",
       "travel                327\n",
       "semiconductor         324\n",
       "news                  280\n",
       "manufacturing         269\n",
       "fashion               264\n",
       "hospitality           263\n",
       "real_estate           221\n",
       "photo_video           197\n",
       "local                 196\n",
       "messaging             186\n",
       "music                 181\n",
       "sports                166\n",
       "transportation        126\n",
       "nonprofit             115\n",
       "design                108\n",
       "automotive            101\n",
       "pets                   34\n",
       "nanotech               30\n",
       "government             21\n",
       "Name: category_code, dtype: int64"
      ]
     },
     "execution_count": 39,
     "metadata": {},
     "output_type": "execute_result"
    }
   ],
   "source": [
    "data['category_code'].value_counts()"
   ]
  },
  {
   "cell_type": "markdown",
   "id": "db7e8082",
   "metadata": {},
   "source": [
    "**- Encoding the Country code column,**"
   ]
  },
  {
   "cell_type": "code",
   "execution_count": 40,
   "id": "36023c46",
   "metadata": {},
   "outputs": [],
   "source": [
    "top = ['USA','GBR','IND','CAN','DEU','FRA','AUS','ESP','ISR','NLD']"
   ]
  },
  {
   "cell_type": "code",
   "execution_count": 41,
   "id": "23182489",
   "metadata": {},
   "outputs": [],
   "source": [
    "data.loc[~data['country_code'].isin(top),'country_code'] = 'other'"
   ]
  },
  {
   "cell_type": "code",
   "execution_count": 42,
   "id": "438e42f9",
   "metadata": {},
   "outputs": [
    {
     "data": {
      "text/plain": [
       "USA      33820\n",
       "other     9663\n",
       "GBR       5047\n",
       "IND       3014\n",
       "CAN       2625\n",
       "DEU       1364\n",
       "FRA       1216\n",
       "AUS       1031\n",
       "ESP        884\n",
       "ISR        751\n",
       "NLD        654\n",
       "Name: country_code, dtype: int64"
      ]
     },
     "execution_count": 42,
     "metadata": {},
     "output_type": "execute_result"
    }
   ],
   "source": [
    "data['country_code'].value_counts()"
   ]
  },
  {
   "cell_type": "code",
   "execution_count": 43,
   "id": "202c0757",
   "metadata": {},
   "outputs": [],
   "source": [
    "data['category_code'] = data['category_code'].replace(['public_relations','hardware','network_hosting','education','search','cleantech','analytics','finance','social','security','health','medical','semiconductor','legal','travel','news','manufacturing','fashion','hospitality','real_estate','photo_video','messaging','music','local','sports','transportation','nonprofit','automotive','design','nanotech','pets','government'],'other')"
   ]
  },
  {
   "cell_type": "markdown",
   "id": "953de10b",
   "metadata": {},
   "source": [
    "**- Get dummies method on dataset.**"
   ]
  },
  {
   "cell_type": "code",
   "execution_count": 44,
   "id": "6b2010d8",
   "metadata": {},
   "outputs": [],
   "source": [
    "data = pd.get_dummies(data, columns = ['category_code','country_code'])"
   ]
  },
  {
   "cell_type": "code",
   "execution_count": 45,
   "id": "dd0b2486",
   "metadata": {},
   "outputs": [],
   "source": [
    "data.drop(columns = ['name','invested_companies'],inplace = True)"
   ]
  },
  {
   "cell_type": "markdown",
   "id": "86785a06",
   "metadata": {},
   "source": [
    "## Imbalanced Target Column:"
   ]
  },
  {
   "cell_type": "code",
   "execution_count": 46,
   "id": "a4c4c964",
   "metadata": {},
   "outputs": [
    {
     "data": {
      "text/plain": [
       "(60069, 35)"
      ]
     },
     "execution_count": 46,
     "metadata": {},
     "output_type": "execute_result"
    }
   ],
   "source": [
    "data.shape"
   ]
  },
  {
   "cell_type": "code",
   "execution_count": 47,
   "id": "b0a2a28f",
   "metadata": {},
   "outputs": [
    {
     "data": {
      "text/plain": [
       "operating    54823\n",
       "acquired      3337\n",
       "closed        1492\n",
       "ipo            417\n",
       "Name: status, dtype: int64"
      ]
     },
     "execution_count": 47,
     "metadata": {},
     "output_type": "execute_result"
    }
   ],
   "source": [
    "data.status.value_counts()"
   ]
  },
  {
   "cell_type": "code",
   "execution_count": 48,
   "id": "f836a582",
   "metadata": {},
   "outputs": [],
   "source": [
    "data['status'] = data['status'].replace('operating',1)\n",
    "data['status'] = data['status'].replace('ipo',1)\n",
    "data['status'] = data['status'].replace('closed',0)\n",
    "data['status'] = data['status'].replace('acquired',0)"
   ]
  },
  {
   "cell_type": "markdown",
   "id": "083f1783",
   "metadata": {},
   "source": [
    "Our target column is not balanced and need to work on the imbalance column:"
   ]
  },
  {
   "cell_type": "code",
   "execution_count": 49,
   "id": "5f00f6a9",
   "metadata": {},
   "outputs": [],
   "source": [
    "x = data.drop('status',axis = 1)\n",
    "y = data.status"
   ]
  },
  {
   "cell_type": "code",
   "execution_count": 50,
   "id": "f598704a",
   "metadata": {},
   "outputs": [],
   "source": [
    "x_train,x_test,y_train,y_test = train_test_split(x, y, test_size = 0.25, random_state = 4)"
   ]
  },
  {
   "cell_type": "code",
   "execution_count": 51,
   "id": "6234e1ed",
   "metadata": {},
   "outputs": [],
   "source": [
    "ds = NearMiss(0.75)\n",
    "x_train_nm,y_train_nm = ds.fit_resample(x_train,y_train)"
   ]
  },
  {
   "cell_type": "code",
   "execution_count": 52,
   "id": "36e01bb7",
   "metadata": {},
   "outputs": [
    {
     "name": "stdout",
     "output_type": "stream",
     "text": [
      "Before Fit: Counter({1: 41459, 0: 3592})\n",
      "After Fit: Counter({1: 4789, 0: 3592})\n"
     ]
    }
   ],
   "source": [
    "print('Before Fit: {}'.format(Counter(y_train)))\n",
    "print('After Fit: {}'.format(Counter(y_train_nm)))"
   ]
  },
  {
   "cell_type": "code",
   "execution_count": 53,
   "id": "93b88f2b",
   "metadata": {},
   "outputs": [
    {
     "data": {
      "image/png": "[encoded data removed]",
      "text/plain": [
       "<Figure size 432x288 with 1 Axes>"
      ]
     },
     "metadata": {
      "needs_background": "light"
     },
     "output_type": "display_data"
    }
   ],
   "source": [
    "sns.countplot(y_train_nm)\n",
    "plt.show()"
   ]
  },
  {
   "cell_type": "markdown",
   "id": "b5317e66",
   "metadata": {},
   "source": [
    "**Now, our target column is balanced.**"
   ]
  },
  {
   "cell_type": "code",
   "execution_count": 54,
   "id": "f6d8e739",
   "metadata": {},
   "outputs": [],
   "source": [
    "y_train_nm = y"
   ]
  },
  {
   "cell_type": "markdown",
   "id": "5089cc8c",
   "metadata": {},
   "source": [
    "## PCA"
   ]
  },
  {
   "cell_type": "code",
   "execution_count": 55,
   "id": "348394c5",
   "metadata": {},
   "outputs": [],
   "source": [
    "X = x_train_nm.copy()\n",
    "pca = PCA(n_components=2)\n",
    "pca_X= pca.fit_transform(X)"
   ]
  },
  {
   "cell_type": "code",
   "execution_count": 56,
   "id": "49f0b1e8",
   "metadata": {},
   "outputs": [
    {
     "data": {
      "text/html": [
       "<div>\n",
       "<style scoped>\n",
       "    .dataframe tbody tr th:only-of-type {\n",
       "        vertical-align: middle;\n",
       "    }\n",
       "\n",
       "    .dataframe tbody tr th {\n",
       "        vertical-align: top;\n",
       "    }\n",
       "\n",
       "    .dataframe thead th {\n",
       "        text-align: right;\n",
       "    }\n",
       "</style>\n",
       "<table border=\"1\" class=\"dataframe\">\n",
       "  <thead>\n",
       "    <tr style=\"text-align: right;\">\n",
       "      <th></th>\n",
       "      <th>principal component 1</th>\n",
       "      <th>principal component 2</th>\n",
       "      <th>y</th>\n",
       "    </tr>\n",
       "  </thead>\n",
       "  <tbody>\n",
       "    <tr>\n",
       "      <th>0</th>\n",
       "      <td>1.308493e+07</td>\n",
       "      <td>102929.360946</td>\n",
       "      <td>NaN</td>\n",
       "    </tr>\n",
       "    <tr>\n",
       "      <th>1</th>\n",
       "      <td>1.318493e+07</td>\n",
       "      <td>103225.214655</td>\n",
       "      <td>1.0</td>\n",
       "    </tr>\n",
       "    <tr>\n",
       "      <th>2</th>\n",
       "      <td>-2.284865e+06</td>\n",
       "      <td>95508.416748</td>\n",
       "      <td>1.0</td>\n",
       "    </tr>\n",
       "    <tr>\n",
       "      <th>3</th>\n",
       "      <td>2.494762e+06</td>\n",
       "      <td>-70549.675005</td>\n",
       "      <td>1.0</td>\n",
       "    </tr>\n",
       "    <tr>\n",
       "      <th>4</th>\n",
       "      <td>-2.284975e+06</td>\n",
       "      <td>-21873.729536</td>\n",
       "      <td>0.0</td>\n",
       "    </tr>\n",
       "    <tr>\n",
       "      <th>...</th>\n",
       "      <td>...</td>\n",
       "      <td>...</td>\n",
       "      <td>...</td>\n",
       "    </tr>\n",
       "    <tr>\n",
       "      <th>8376</th>\n",
       "      <td>-2.284991e+06</td>\n",
       "      <td>-30487.542819</td>\n",
       "      <td>0.0</td>\n",
       "    </tr>\n",
       "    <tr>\n",
       "      <th>8377</th>\n",
       "      <td>-2.284987e+06</td>\n",
       "      <td>-27757.041290</td>\n",
       "      <td>1.0</td>\n",
       "    </tr>\n",
       "    <tr>\n",
       "      <th>8378</th>\n",
       "      <td>-2.284977e+06</td>\n",
       "      <td>-18543.143483</td>\n",
       "      <td>1.0</td>\n",
       "    </tr>\n",
       "    <tr>\n",
       "      <th>8379</th>\n",
       "      <td>-2.284975e+06</td>\n",
       "      <td>-21759.369514</td>\n",
       "      <td>1.0</td>\n",
       "    </tr>\n",
       "    <tr>\n",
       "      <th>8380</th>\n",
       "      <td>-2.284982e+06</td>\n",
       "      <td>-23288.935528</td>\n",
       "      <td>0.0</td>\n",
       "    </tr>\n",
       "  </tbody>\n",
       "</table>\n",
       "<p>8381 rows × 3 columns</p>\n",
       "</div>"
      ],
      "text/plain": [
       "      principal component 1  principal component 2    y\n",
       "0              1.308493e+07          102929.360946  NaN\n",
       "1              1.318493e+07          103225.214655  1.0\n",
       "2             -2.284865e+06           95508.416748  1.0\n",
       "3              2.494762e+06          -70549.675005  1.0\n",
       "4             -2.284975e+06          -21873.729536  0.0\n",
       "...                     ...                    ...  ...\n",
       "8376          -2.284991e+06          -30487.542819  0.0\n",
       "8377          -2.284987e+06          -27757.041290  1.0\n",
       "8378          -2.284977e+06          -18543.143483  1.0\n",
       "8379          -2.284975e+06          -21759.369514  1.0\n",
       "8380          -2.284982e+06          -23288.935528  0.0\n",
       "\n",
       "[8381 rows x 3 columns]"
      ]
     },
     "execution_count": 56,
     "metadata": {},
     "output_type": "execute_result"
    }
   ],
   "source": [
    "loadings = pd.DataFrame(\n",
    "   data = pca_X, columns = ['principal component 1', 'principal component 2']\n",
    ")\n",
    "loadings['y']=y_train_nm\n",
    "loadings"
   ]
  },
  {
   "cell_type": "code",
   "execution_count": 57,
   "id": "9035b0fb",
   "metadata": {},
   "outputs": [
    {
     "data": {
      "text/plain": [
       "array([9.99764800e-01, 1.46582547e-04])"
      ]
     },
     "execution_count": 57,
     "metadata": {},
     "output_type": "execute_result"
    }
   ],
   "source": [
    "explained_variance = pca.explained_variance_ratio_\n",
    "explained_variance"
   ]
  },
  {
   "cell_type": "code",
   "execution_count": 58,
   "id": "d79e0287",
   "metadata": {
    "scrolled": true
   },
   "outputs": [
    {
     "data": {
      "text/plain": [
       "<AxesSubplot:xlabel='principal component 1', ylabel='principal component 2'>"
      ]
     },
     "execution_count": 58,
     "metadata": {},
     "output_type": "execute_result"
    },
    {
     "data": {
      "image/png": "[encoded data removed]",
      "text/plain": [
       "<Figure size 1152x720 with 1 Axes>"
      ]
     },
     "metadata": {
      "needs_background": "light"
     },
     "output_type": "display_data"
    }
   ],
   "source": [
    "plt.figure(figsize=(16,10))\n",
    "sns.scatterplot(\n",
    "    x=\"principal component 1\", y=\"principal component 2\",\n",
    "    hue=\"y\",\n",
    "    data=loadings,\n",
    "    legend=\"full\",\n",
    "    alpha=0.3,\n",
    "    palette=\"deep\"\n",
    ")"
   ]
  },
  {
   "cell_type": "markdown",
   "id": "349cfb6c",
   "metadata": {},
   "source": [
    "From the above graph, you can observe that there is no best_fit_line can divide the dataset into 2 classes"
   ]
  },
  {
   "cell_type": "code",
   "execution_count": 59,
   "id": "bb642cfa",
   "metadata": {
    "scrolled": false
   },
   "outputs": [
    {
     "data": {
      "image/png": "[encoded data removed]",
      "text/plain": [
       "<Figure size 3000x1200 with 2 Axes>"
      ]
     },
     "metadata": {
      "needs_background": "light"
     },
     "output_type": "display_data"
    }
   ],
   "source": [
    "def plot_variance(pca, width=10, dpi=200):\n",
    "    fig, axs = plt.subplots(1, 2)\n",
    "    n = pca.n_components_\n",
    "    grid = np.arange(1, n + 1)\n",
    "    \n",
    "    evr = pca.explained_variance_ratio_\n",
    "    axs[0].bar(grid, evr)\n",
    "    axs[0].set(\n",
    "        xlabel=\"Component\", title=\"% Explained Variance\", ylim=(0.0, 1.0)\n",
    "    )\n",
    "   \n",
    "    cv = np.cumsum(evr)\n",
    "    axs[1].plot(np.r_[0, grid], np.r_[0, cv], \"o-\")\n",
    "    axs[1].set(\n",
    "        xlabel=\"Component\", title=\"% Cumulative Variance\", ylim=(0.0, 1.0)\n",
    "    )\n",
    "   \n",
    "    fig.set(figwidth=10, dpi=300)\n",
    "    return axs\n",
    "plot_variance(pca);"
   ]
  },
  {
   "cell_type": "markdown",
   "id": "56e855aa",
   "metadata": {},
   "source": []
  },
  {
   "cell_type": "markdown",
   "id": "212e542d",
   "metadata": {},
   "source": [
    "## Final Dataset"
   ]
  },
  {
   "cell_type": "code",
   "execution_count": 60,
   "id": "6fa34b05",
   "metadata": {},
   "outputs": [],
   "source": [
    "data = data.drop(columns = ['index','entity_id'])"
   ]
  },
  {
   "cell_type": "code",
   "execution_count": 61,
   "id": "1bb10b5a",
   "metadata": {},
   "outputs": [
    {
     "data": {
      "text/html": [
       "<div>\n",
       "<style scoped>\n",
       "    .dataframe tbody tr th:only-of-type {\n",
       "        vertical-align: middle;\n",
       "    }\n",
       "\n",
       "    .dataframe tbody tr th {\n",
       "        vertical-align: top;\n",
       "    }\n",
       "\n",
       "    .dataframe thead th {\n",
       "        text-align: right;\n",
       "    }\n",
       "</style>\n",
       "<table border=\"1\" class=\"dataframe\">\n",
       "  <thead>\n",
       "    <tr style=\"text-align: right;\">\n",
       "      <th></th>\n",
       "      <th>status</th>\n",
       "      <th>founded_at</th>\n",
       "      <th>closed_at</th>\n",
       "      <th>investment_rounds</th>\n",
       "      <th>funding_rounds</th>\n",
       "      <th>funding_total_usd</th>\n",
       "      <th>milestones</th>\n",
       "      <th>relationships</th>\n",
       "      <th>created_at</th>\n",
       "      <th>updated_at</th>\n",
       "      <th>...</th>\n",
       "      <th>country_code_CAN</th>\n",
       "      <th>country_code_DEU</th>\n",
       "      <th>country_code_ESP</th>\n",
       "      <th>country_code_FRA</th>\n",
       "      <th>country_code_GBR</th>\n",
       "      <th>country_code_IND</th>\n",
       "      <th>country_code_ISR</th>\n",
       "      <th>country_code_NLD</th>\n",
       "      <th>country_code_USA</th>\n",
       "      <th>country_code_other</th>\n",
       "    </tr>\n",
       "  </thead>\n",
       "  <tbody>\n",
       "    <tr>\n",
       "      <th>1</th>\n",
       "      <td>1</td>\n",
       "      <td>2007</td>\n",
       "      <td>2021.0</td>\n",
       "      <td>1.0</td>\n",
       "      <td>1.0</td>\n",
       "      <td>1.581978e+07</td>\n",
       "      <td>1.0</td>\n",
       "      <td>2.00000</td>\n",
       "      <td>2008</td>\n",
       "      <td>2008</td>\n",
       "      <td>...</td>\n",
       "      <td>0</td>\n",
       "      <td>0</td>\n",
       "      <td>0</td>\n",
       "      <td>0</td>\n",
       "      <td>0</td>\n",
       "      <td>0</td>\n",
       "      <td>0</td>\n",
       "      <td>0</td>\n",
       "      <td>0</td>\n",
       "      <td>1</td>\n",
       "    </tr>\n",
       "    <tr>\n",
       "      <th>2</th>\n",
       "      <td>1</td>\n",
       "      <td>2008</td>\n",
       "      <td>2021.0</td>\n",
       "      <td>1.0</td>\n",
       "      <td>1.0</td>\n",
       "      <td>1.581978e+07</td>\n",
       "      <td>1.0</td>\n",
       "      <td>4.43465</td>\n",
       "      <td>2008</td>\n",
       "      <td>2010</td>\n",
       "      <td>...</td>\n",
       "      <td>0</td>\n",
       "      <td>0</td>\n",
       "      <td>0</td>\n",
       "      <td>0</td>\n",
       "      <td>0</td>\n",
       "      <td>1</td>\n",
       "      <td>0</td>\n",
       "      <td>0</td>\n",
       "      <td>0</td>\n",
       "      <td>0</td>\n",
       "    </tr>\n",
       "    <tr>\n",
       "      <th>3</th>\n",
       "      <td>1</td>\n",
       "      <td>2008</td>\n",
       "      <td>2021.0</td>\n",
       "      <td>1.0</td>\n",
       "      <td>1.0</td>\n",
       "      <td>1.581978e+07</td>\n",
       "      <td>1.0</td>\n",
       "      <td>2.00000</td>\n",
       "      <td>2008</td>\n",
       "      <td>2008</td>\n",
       "      <td>...</td>\n",
       "      <td>0</td>\n",
       "      <td>0</td>\n",
       "      <td>0</td>\n",
       "      <td>0</td>\n",
       "      <td>0</td>\n",
       "      <td>0</td>\n",
       "      <td>0</td>\n",
       "      <td>0</td>\n",
       "      <td>1</td>\n",
       "      <td>0</td>\n",
       "    </tr>\n",
       "    <tr>\n",
       "      <th>4</th>\n",
       "      <td>0</td>\n",
       "      <td>2007</td>\n",
       "      <td>2021.0</td>\n",
       "      <td>1.0</td>\n",
       "      <td>1.0</td>\n",
       "      <td>5.000000e+06</td>\n",
       "      <td>3.0</td>\n",
       "      <td>14.00000</td>\n",
       "      <td>2007</td>\n",
       "      <td>2013</td>\n",
       "      <td>...</td>\n",
       "      <td>0</td>\n",
       "      <td>0</td>\n",
       "      <td>0</td>\n",
       "      <td>0</td>\n",
       "      <td>0</td>\n",
       "      <td>0</td>\n",
       "      <td>0</td>\n",
       "      <td>0</td>\n",
       "      <td>1</td>\n",
       "      <td>0</td>\n",
       "    </tr>\n",
       "    <tr>\n",
       "      <th>5</th>\n",
       "      <td>1</td>\n",
       "      <td>2008</td>\n",
       "      <td>2021.0</td>\n",
       "      <td>1.0</td>\n",
       "      <td>1.0</td>\n",
       "      <td>1.581978e+07</td>\n",
       "      <td>1.0</td>\n",
       "      <td>3.00000</td>\n",
       "      <td>2008</td>\n",
       "      <td>2009</td>\n",
       "      <td>...</td>\n",
       "      <td>0</td>\n",
       "      <td>0</td>\n",
       "      <td>0</td>\n",
       "      <td>0</td>\n",
       "      <td>0</td>\n",
       "      <td>0</td>\n",
       "      <td>0</td>\n",
       "      <td>0</td>\n",
       "      <td>1</td>\n",
       "      <td>0</td>\n",
       "    </tr>\n",
       "    <tr>\n",
       "      <th>...</th>\n",
       "      <td>...</td>\n",
       "      <td>...</td>\n",
       "      <td>...</td>\n",
       "      <td>...</td>\n",
       "      <td>...</td>\n",
       "      <td>...</td>\n",
       "      <td>...</td>\n",
       "      <td>...</td>\n",
       "      <td>...</td>\n",
       "      <td>...</td>\n",
       "      <td>...</td>\n",
       "      <td>...</td>\n",
       "      <td>...</td>\n",
       "      <td>...</td>\n",
       "      <td>...</td>\n",
       "      <td>...</td>\n",
       "      <td>...</td>\n",
       "      <td>...</td>\n",
       "      <td>...</td>\n",
       "      <td>...</td>\n",
       "      <td>...</td>\n",
       "    </tr>\n",
       "    <tr>\n",
       "      <th>64089</th>\n",
       "      <td>1</td>\n",
       "      <td>2007</td>\n",
       "      <td>2021.0</td>\n",
       "      <td>1.0</td>\n",
       "      <td>1.0</td>\n",
       "      <td>1.581978e+07</td>\n",
       "      <td>2.0</td>\n",
       "      <td>5.00000</td>\n",
       "      <td>2011</td>\n",
       "      <td>2013</td>\n",
       "      <td>...</td>\n",
       "      <td>0</td>\n",
       "      <td>0</td>\n",
       "      <td>0</td>\n",
       "      <td>0</td>\n",
       "      <td>0</td>\n",
       "      <td>0</td>\n",
       "      <td>0</td>\n",
       "      <td>0</td>\n",
       "      <td>1</td>\n",
       "      <td>0</td>\n",
       "    </tr>\n",
       "    <tr>\n",
       "      <th>64090</th>\n",
       "      <td>1</td>\n",
       "      <td>2007</td>\n",
       "      <td>2021.0</td>\n",
       "      <td>1.0</td>\n",
       "      <td>1.0</td>\n",
       "      <td>7.500000e+05</td>\n",
       "      <td>1.0</td>\n",
       "      <td>14.00000</td>\n",
       "      <td>2008</td>\n",
       "      <td>2013</td>\n",
       "      <td>...</td>\n",
       "      <td>0</td>\n",
       "      <td>0</td>\n",
       "      <td>0</td>\n",
       "      <td>0</td>\n",
       "      <td>0</td>\n",
       "      <td>0</td>\n",
       "      <td>0</td>\n",
       "      <td>0</td>\n",
       "      <td>1</td>\n",
       "      <td>0</td>\n",
       "    </tr>\n",
       "    <tr>\n",
       "      <th>64091</th>\n",
       "      <td>1</td>\n",
       "      <td>1959</td>\n",
       "      <td>2021.0</td>\n",
       "      <td>1.0</td>\n",
       "      <td>1.0</td>\n",
       "      <td>1.581978e+07</td>\n",
       "      <td>3.0</td>\n",
       "      <td>44.00000</td>\n",
       "      <td>2008</td>\n",
       "      <td>2013</td>\n",
       "      <td>...</td>\n",
       "      <td>0</td>\n",
       "      <td>0</td>\n",
       "      <td>0</td>\n",
       "      <td>0</td>\n",
       "      <td>0</td>\n",
       "      <td>0</td>\n",
       "      <td>0</td>\n",
       "      <td>0</td>\n",
       "      <td>1</td>\n",
       "      <td>0</td>\n",
       "    </tr>\n",
       "    <tr>\n",
       "      <th>64092</th>\n",
       "      <td>1</td>\n",
       "      <td>2008</td>\n",
       "      <td>2021.0</td>\n",
       "      <td>1.0</td>\n",
       "      <td>1.0</td>\n",
       "      <td>1.581978e+07</td>\n",
       "      <td>1.0</td>\n",
       "      <td>1.00000</td>\n",
       "      <td>2008</td>\n",
       "      <td>2013</td>\n",
       "      <td>...</td>\n",
       "      <td>0</td>\n",
       "      <td>0</td>\n",
       "      <td>0</td>\n",
       "      <td>0</td>\n",
       "      <td>0</td>\n",
       "      <td>0</td>\n",
       "      <td>0</td>\n",
       "      <td>0</td>\n",
       "      <td>1</td>\n",
       "      <td>0</td>\n",
       "    </tr>\n",
       "    <tr>\n",
       "      <th>64093</th>\n",
       "      <td>1</td>\n",
       "      <td>2007</td>\n",
       "      <td>2021.0</td>\n",
       "      <td>1.0</td>\n",
       "      <td>1.0</td>\n",
       "      <td>4.750000e+05</td>\n",
       "      <td>2.0</td>\n",
       "      <td>1.00000</td>\n",
       "      <td>2008</td>\n",
       "      <td>2013</td>\n",
       "      <td>...</td>\n",
       "      <td>0</td>\n",
       "      <td>0</td>\n",
       "      <td>0</td>\n",
       "      <td>0</td>\n",
       "      <td>0</td>\n",
       "      <td>0</td>\n",
       "      <td>0</td>\n",
       "      <td>0</td>\n",
       "      <td>1</td>\n",
       "      <td>0</td>\n",
       "    </tr>\n",
       "  </tbody>\n",
       "</table>\n",
       "<p>60069 rows × 33 columns</p>\n",
       "</div>"
      ],
      "text/plain": [
       "       status  founded_at  closed_at  investment_rounds  funding_rounds  \\\n",
       "1           1        2007     2021.0                1.0             1.0   \n",
       "2           1        2008     2021.0                1.0             1.0   \n",
       "3           1        2008     2021.0                1.0             1.0   \n",
       "4           0        2007     2021.0                1.0             1.0   \n",
       "5           1        2008     2021.0                1.0             1.0   \n",
       "...       ...         ...        ...                ...             ...   \n",
       "64089       1        2007     2021.0                1.0             1.0   \n",
       "64090       1        2007     2021.0                1.0             1.0   \n",
       "64091       1        1959     2021.0                1.0             1.0   \n",
       "64092       1        2008     2021.0                1.0             1.0   \n",
       "64093       1        2007     2021.0                1.0             1.0   \n",
       "\n",
       "       funding_total_usd  milestones  relationships  created_at  updated_at  \\\n",
       "1           1.581978e+07         1.0        2.00000        2008        2008   \n",
       "2           1.581978e+07         1.0        4.43465        2008        2010   \n",
       "3           1.581978e+07         1.0        2.00000        2008        2008   \n",
       "4           5.000000e+06         3.0       14.00000        2007        2013   \n",
       "5           1.581978e+07         1.0        3.00000        2008        2009   \n",
       "...                  ...         ...            ...         ...         ...   \n",
       "64089       1.581978e+07         2.0        5.00000        2011        2013   \n",
       "64090       7.500000e+05         1.0       14.00000        2008        2013   \n",
       "64091       1.581978e+07         3.0       44.00000        2008        2013   \n",
       "64092       1.581978e+07         1.0        1.00000        2008        2013   \n",
       "64093       4.750000e+05         2.0        1.00000        2008        2013   \n",
       "\n",
       "       ...  country_code_CAN  country_code_DEU  country_code_ESP  \\\n",
       "1      ...                 0                 0                 0   \n",
       "2      ...                 0                 0                 0   \n",
       "3      ...                 0                 0                 0   \n",
       "4      ...                 0                 0                 0   \n",
       "5      ...                 0                 0                 0   \n",
       "...    ...               ...               ...               ...   \n",
       "64089  ...                 0                 0                 0   \n",
       "64090  ...                 0                 0                 0   \n",
       "64091  ...                 0                 0                 0   \n",
       "64092  ...                 0                 0                 0   \n",
       "64093  ...                 0                 0                 0   \n",
       "\n",
       "       country_code_FRA  country_code_GBR  country_code_IND  country_code_ISR  \\\n",
       "1                     0                 0                 0                 0   \n",
       "2                     0                 0                 1                 0   \n",
       "3                     0                 0                 0                 0   \n",
       "4                     0                 0                 0                 0   \n",
       "5                     0                 0                 0                 0   \n",
       "...                 ...               ...               ...               ...   \n",
       "64089                 0                 0                 0                 0   \n",
       "64090                 0                 0                 0                 0   \n",
       "64091                 0                 0                 0                 0   \n",
       "64092                 0                 0                 0                 0   \n",
       "64093                 0                 0                 0                 0   \n",
       "\n",
       "       country_code_NLD  country_code_USA  country_code_other  \n",
       "1                     0                 0                   1  \n",
       "2                     0                 0                   0  \n",
       "3                     0                 1                   0  \n",
       "4                     0                 1                   0  \n",
       "5                     0                 1                   0  \n",
       "...                 ...               ...                 ...  \n",
       "64089                 0                 1                   0  \n",
       "64090                 0                 1                   0  \n",
       "64091                 0                 1                   0  \n",
       "64092                 0                 1                   0  \n",
       "64093                 0                 1                   0  \n",
       "\n",
       "[60069 rows x 33 columns]"
      ]
     },
     "execution_count": 61,
     "metadata": {},
     "output_type": "execute_result"
    }
   ],
   "source": [
    "data"
   ]
  },
  {
   "cell_type": "code",
   "execution_count": 62,
   "id": "64fddf9c",
   "metadata": {},
   "outputs": [
    {
     "data": {
      "text/plain": [
       "19108"
      ]
     },
     "execution_count": 62,
     "metadata": {},
     "output_type": "execute_result"
    }
   ],
   "source": [
    "data.duplicated().sum()"
   ]
  },
  {
   "cell_type": "markdown",
   "id": "6e6a119f",
   "metadata": {},
   "source": [
    "This is the final dataset.\n"
   ]
  },
  {
   "cell_type": "markdown",
   "id": "df6b5393",
   "metadata": {},
   "source": [
    "## Scaling the dataset."
   ]
  },
  {
   "cell_type": "markdown",
   "id": "23f94da0",
   "metadata": {},
   "source": [
    "**- Seperating the features and target column.**"
   ]
  },
  {
   "cell_type": "code",
   "execution_count": 63,
   "id": "bacbd849",
   "metadata": {},
   "outputs": [],
   "source": [
    "x = data.drop('status',axis = 1)\n",
    "y = y_train_nm"
   ]
  },
  {
   "cell_type": "markdown",
   "id": "cddb12ab",
   "metadata": {},
   "source": [
    "**- Using Standard Scaler to scale the features.**"
   ]
  },
  {
   "cell_type": "code",
   "execution_count": 64,
   "id": "080a46cd",
   "metadata": {},
   "outputs": [
    {
     "data": {
      "text/plain": [
       "array([[ 0.1410165 ,  0.15702045, -0.01694127, ..., -0.10491578,\n",
       "        -1.13509032,  2.2839423 ],\n",
       "       [ 0.24366203,  0.15702045, -0.01694127, ..., -0.10491578,\n",
       "        -1.13509032, -0.43783943],\n",
       "       [ 0.24366203,  0.15702045, -0.01694127, ..., -0.10491578,\n",
       "         0.88098716, -0.43783943],\n",
       "       ...,\n",
       "       [-4.78596903,  0.15702045, -0.01694127, ..., -0.10491578,\n",
       "         0.88098716, -0.43783943],\n",
       "       [ 0.24366203,  0.15702045, -0.01694127, ..., -0.10491578,\n",
       "         0.88098716, -0.43783943],\n",
       "       [ 0.1410165 ,  0.15702045, -0.01694127, ..., -0.10491578,\n",
       "         0.88098716, -0.43783943]])"
      ]
     },
     "execution_count": 64,
     "metadata": {},
     "output_type": "execute_result"
    }
   ],
   "source": [
    "scaler = StandardScaler()\n",
    "x_scaled = scaler.fit_transform(x)\n",
    "x_scaled"
   ]
  },
  {
   "cell_type": "markdown",
   "id": "33ca0584",
   "metadata": {},
   "source": [
    "### Functions for Testing the accuracy"
   ]
  },
  {
   "cell_type": "code",
   "execution_count": 65,
   "id": "a7330304",
   "metadata": {},
   "outputs": [],
   "source": [
    "def score(clas, x_train, x_test, y_train, y_test, train = True):\n",
    "    if train:\n",
    "        y_pred = clas.predict(x_train)\n",
    "        print('\\n ----- Train Result ----- \\n')\n",
    "        print('Accuracy Score:', accuracy_score(y_train,y_pred))\n",
    "        print('\\n ----- Classification Report ----- \\n', classification_report(y_train,y_pred))\n",
    "        print('\\n ----- Confusion matrix ----- \\n', confusion_matrix(y_train,y_pred))\n",
    "    \n",
    "    elif train == False:\n",
    "        pred = clas.predict(x_test)\n",
    "        print('\\n ----- Test Result ----- \\n')\n",
    "        print('Accuracy Score:', accuracy_score(y_test,pred))\n",
    "        print('\\n ----- Classification Report ----- \\n', classification_report(y_test,pred))\n",
    "        print('\\n ----- Confusion matrix ----- \\n', confusion_matrix(y_test,pred))"
   ]
  },
  {
   "cell_type": "code",
   "execution_count": 66,
   "id": "7b95d0c0",
   "metadata": {},
   "outputs": [],
   "source": [
    "def roc_curve_plot(clas, x_test, y_test):\n",
    "    print('Roc Curve')\n",
    "    plot_roc_curve(clas, x_test, y_test) \n",
    "    \n",
    "def confusion_matrix_plot(clas, x_test, y_test):\n",
    "    pred = clas.predict(x_test)\n",
    "    print('Confusion Matrix')\n",
    "    sns.heatmap(confusion_matrix(y_test.values.ravel(),pred), annot=True,fmt=\"d\")\n",
    "    plt.rcParams[\"figure.figsize\"]=(5,5)\n",
    "    plt.show()"
   ]
  },
  {
   "cell_type": "code",
   "execution_count": 67,
   "id": "57a5229a",
   "metadata": {},
   "outputs": [],
   "source": [
    "def sample(clas,x_test,x_train):\n",
    "    y_test_pred = clas.predict(x_test)\n",
    "    y_train_pred = clas.predict(x_train)\n",
    "    print('the first 20 samples from dataset: ')\n",
    "    print(y_train_pred[0:20])\n",
    "    print(y_test_pred[0:20])"
   ]
  },
  {
   "cell_type": "markdown",
   "id": "7e07aebb",
   "metadata": {},
   "source": [
    "## Random Forest"
   ]
  },
  {
   "cell_type": "markdown",
   "id": "48774982",
   "metadata": {},
   "source": [
    "### Model Training"
   ]
  },
  {
   "cell_type": "code",
   "execution_count": 68,
   "id": "fced1262",
   "metadata": {
    "scrolled": true
   },
   "outputs": [],
   "source": [
    "rfc = RandomForestClassifier()"
   ]
  },
  {
   "cell_type": "code",
   "execution_count": 69,
   "id": "4e853474",
   "metadata": {},
   "outputs": [
    {
     "name": "stdout",
     "output_type": "stream",
     "text": [
      "At Random state: 0\n",
      "Training score : 99.0\n",
      "Testing score: 94.2\n",
      "At Random state: 1\n",
      "Training score : 99.0\n",
      "Testing score: 94.5\n",
      "At Random state: 2\n",
      "Training score : 99.0\n",
      "Testing score: 94.4\n",
      "At Random state: 3\n",
      "Training score : 99.0\n",
      "Testing score: 94.6\n",
      "At Random state: 4\n",
      "Training score : 99.0\n",
      "Testing score: 94.4\n",
      "At Random state: 5\n",
      "Training score : 99.0\n",
      "Testing score: 94.2\n",
      "At Random state: 6\n",
      "Training score : 99.1\n",
      "Testing score: 94.3\n",
      "At Random state: 7\n",
      "Training score : 99.0\n",
      "Testing score: 94.4\n",
      "At Random state: 8\n",
      "Training score : 99.0\n",
      "Testing score: 94.6\n",
      "At Random state: 9\n",
      "Training score : 99.0\n",
      "Testing score: 94.6\n"
     ]
    }
   ],
   "source": [
    "for i in range(0,10):\n",
    "    x_train,x_test,y_train,y_test = train_test_split(x_scaled, y, random_state = i, test_size = 0.25)\n",
    "    rfc.fit(x_train,y_train)\n",
    "    pred_train = rfc.predict(x_train)\n",
    "    pred_test = rfc.predict(x_test) \n",
    "    if  round(accuracy_score(y_test,pred_test)*100,1) >= 93:\n",
    "        print('At Random state:',i)\n",
    "        print('Training score :',round(accuracy_score(y_train,pred_train)*100,1))\n",
    "        print('Testing score:',round(accuracy_score(y_test,pred_test)*100,1))"
   ]
  },
  {
   "cell_type": "code",
   "execution_count": 70,
   "id": "85a06da1",
   "metadata": {},
   "outputs": [],
   "source": [
    "x_train,x_test,y_train,y_test = train_test_split(x_scaled, y, test_size = 0.25, random_state = 8)"
   ]
  },
  {
   "cell_type": "markdown",
   "id": "eb2defbb",
   "metadata": {},
   "source": [
    "### Model Accuracy"
   ]
  },
  {
   "cell_type": "code",
   "execution_count": 71,
   "id": "83674461",
   "metadata": {
    "scrolled": false
   },
   "outputs": [
    {
     "name": "stdout",
     "output_type": "stream",
     "text": [
      "\n",
      " ----- Train Result ----- \n",
      "\n",
      "Accuracy Score: 0.9900557146345254\n",
      "\n",
      " ----- Classification Report ----- \n",
      "               precision    recall  f1-score   support\n",
      "\n",
      "           0       0.98      0.89      0.94      3635\n",
      "           1       0.99      1.00      0.99     41416\n",
      "\n",
      "    accuracy                           0.99     45051\n",
      "   macro avg       0.99      0.95      0.97     45051\n",
      "weighted avg       0.99      0.99      0.99     45051\n",
      "\n",
      "\n",
      " ----- Confusion matrix ----- \n",
      " [[ 3247   388]\n",
      " [   60 41356]]\n",
      "\n",
      " ----- Test Result ----- \n",
      "\n",
      "Accuracy Score: 0.9458649620455454\n",
      "\n",
      " ----- Classification Report ----- \n",
      "               precision    recall  f1-score   support\n",
      "\n",
      "           0       0.79      0.44      0.56      1194\n",
      "           1       0.95      0.99      0.97     13824\n",
      "\n",
      "    accuracy                           0.95     15018\n",
      "   macro avg       0.87      0.71      0.77     15018\n",
      "weighted avg       0.94      0.95      0.94     15018\n",
      "\n",
      "\n",
      " ----- Confusion matrix ----- \n",
      " [[  523   671]\n",
      " [  142 13682]]\n"
     ]
    }
   ],
   "source": [
    "rfc.fit(x_train,y_train)\n",
    "score(rfc, x_train, x_test, y_train, y_test, train = True)\n",
    "score(rfc, x_train, x_test, y_train, y_test, train = False)"
   ]
  },
  {
   "cell_type": "code",
   "execution_count": 72,
   "id": "215e5ae7",
   "metadata": {},
   "outputs": [
    {
     "name": "stdout",
     "output_type": "stream",
     "text": [
      "Roc Curve\n"
     ]
    },
    {
     "data": {
      "image/png": "[encoded data removed]",
      "text/plain": [
       "<Figure size 432x288 with 1 Axes>"
      ]
     },
     "metadata": {
      "needs_background": "light"
     },
     "output_type": "display_data"
    }
   ],
   "source": [
    "roc_curve_plot(rfc,x_test, y_test)"
   ]
  },
  {
   "cell_type": "code",
   "execution_count": 73,
   "id": "3f8e7a36",
   "metadata": {},
   "outputs": [
    {
     "name": "stdout",
     "output_type": "stream",
     "text": [
      "Confusion Matrix\n"
     ]
    },
    {
     "data": {
      "image/png": "[encoded data removed]",
      "text/plain": [
       "<Figure size 432x288 with 2 Axes>"
      ]
     },
     "metadata": {
      "needs_background": "light"
     },
     "output_type": "display_data"
    }
   ],
   "source": [
    "confusion_matrix_plot(rfc,x_test, y_test)"
   ]
  },
  {
   "cell_type": "markdown",
   "id": "aa27dc24",
   "metadata": {},
   "source": [
    "### Prediction"
   ]
  },
  {
   "cell_type": "code",
   "execution_count": 74,
   "id": "14a86b12",
   "metadata": {
    "scrolled": false
   },
   "outputs": [
    {
     "data": {
      "text/html": [
       "<div>\n",
       "<style scoped>\n",
       "    .dataframe tbody tr th:only-of-type {\n",
       "        vertical-align: middle;\n",
       "    }\n",
       "\n",
       "    .dataframe tbody tr th {\n",
       "        vertical-align: top;\n",
       "    }\n",
       "\n",
       "    .dataframe thead th {\n",
       "        text-align: right;\n",
       "    }\n",
       "</style>\n",
       "<table border=\"1\" class=\"dataframe\">\n",
       "  <thead>\n",
       "    <tr style=\"text-align: right;\">\n",
       "      <th></th>\n",
       "      <th>Original</th>\n",
       "      <th>Predicted</th>\n",
       "    </tr>\n",
       "  </thead>\n",
       "  <tbody>\n",
       "    <tr>\n",
       "      <th>0</th>\n",
       "      <td>1</td>\n",
       "      <td>1</td>\n",
       "    </tr>\n",
       "    <tr>\n",
       "      <th>1</th>\n",
       "      <td>1</td>\n",
       "      <td>1</td>\n",
       "    </tr>\n",
       "    <tr>\n",
       "      <th>2</th>\n",
       "      <td>1</td>\n",
       "      <td>1</td>\n",
       "    </tr>\n",
       "    <tr>\n",
       "      <th>3</th>\n",
       "      <td>1</td>\n",
       "      <td>1</td>\n",
       "    </tr>\n",
       "    <tr>\n",
       "      <th>4</th>\n",
       "      <td>1</td>\n",
       "      <td>1</td>\n",
       "    </tr>\n",
       "    <tr>\n",
       "      <th>...</th>\n",
       "      <td>...</td>\n",
       "      <td>...</td>\n",
       "    </tr>\n",
       "    <tr>\n",
       "      <th>15013</th>\n",
       "      <td>0</td>\n",
       "      <td>1</td>\n",
       "    </tr>\n",
       "    <tr>\n",
       "      <th>15014</th>\n",
       "      <td>1</td>\n",
       "      <td>1</td>\n",
       "    </tr>\n",
       "    <tr>\n",
       "      <th>15015</th>\n",
       "      <td>1</td>\n",
       "      <td>1</td>\n",
       "    </tr>\n",
       "    <tr>\n",
       "      <th>15016</th>\n",
       "      <td>1</td>\n",
       "      <td>1</td>\n",
       "    </tr>\n",
       "    <tr>\n",
       "      <th>15017</th>\n",
       "      <td>1</td>\n",
       "      <td>1</td>\n",
       "    </tr>\n",
       "  </tbody>\n",
       "</table>\n",
       "<p>15018 rows × 2 columns</p>\n",
       "</div>"
      ],
      "text/plain": [
       "       Original  Predicted\n",
       "0             1          1\n",
       "1             1          1\n",
       "2             1          1\n",
       "3             1          1\n",
       "4             1          1\n",
       "...         ...        ...\n",
       "15013         0          1\n",
       "15014         1          1\n",
       "15015         1          1\n",
       "15016         1          1\n",
       "15017         1          1\n",
       "\n",
       "[15018 rows x 2 columns]"
      ]
     },
     "execution_count": 74,
     "metadata": {},
     "output_type": "execute_result"
    }
   ],
   "source": [
    "a_rfc = np.array(y_test)\n",
    "predicted_rfc = np.array(rfc.predict(x_test))\n",
    "df_rfc = pd.DataFrame({'Original':a_rfc,'Predicted':predicted_rfc})\n",
    "df_rfc"
   ]
  },
  {
   "cell_type": "code",
   "execution_count": 75,
   "id": "3a0a11e4",
   "metadata": {},
   "outputs": [
    {
     "name": "stdout",
     "output_type": "stream",
     "text": [
      "the first 20 samples from dataset: \n",
      "[0 1 1 1 1 1 0 1 1 1 1 1 1 1 1 1 1 1 1 0]\n",
      "[1 1 1 1 1 1 1 1 1 1 1 1 1 1 0 1 0 1 1 1]\n"
     ]
    }
   ],
   "source": [
    "sample(rfc,x_test,x_train)"
   ]
  },
  {
   "cell_type": "code",
   "execution_count": 76,
   "id": "90223e9f",
   "metadata": {},
   "outputs": [
    {
     "data": {
      "text/plain": [
       "array([[-0.68014776,  0.15702045, -0.01694127, ..., -0.10491578,\n",
       "         0.88098716, -0.43783943],\n",
       "       [ 0.65424415,  0.15702045, -0.01694127, ..., -0.10491578,\n",
       "        -1.13509032,  2.2839423 ],\n",
       "       [ 0.34630756,  0.15702045, -0.01694127, ..., -0.10491578,\n",
       "         0.88098716, -0.43783943],\n",
       "       ...,\n",
       "       [ 0.65424415,  0.15702045, -0.01694127, ..., -0.10491578,\n",
       "         0.88098716, -0.43783943],\n",
       "       [-0.88543882,  0.15702045, -0.01694127, ..., -0.10491578,\n",
       "        -1.13509032, -0.43783943],\n",
       "       [ 0.24366203,  0.15702045, -0.01694127, ..., -0.10491578,\n",
       "         0.88098716, -0.43783943]])"
      ]
     },
     "execution_count": 76,
     "metadata": {},
     "output_type": "execute_result"
    }
   ],
   "source": [
    "pd.set_option('display.max_columns', None)\n",
    "x_test"
   ]
  },
  {
   "cell_type": "markdown",
   "id": "4c64d429",
   "metadata": {},
   "source": [
    "## Hyperparameter Tuning"
   ]
  },
  {
   "cell_type": "markdown",
   "id": "256f46a3",
   "metadata": {},
   "source": [
    "**- RandomizedSearchCV.**"
   ]
  },
  {
   "cell_type": "code",
   "execution_count": 92,
   "id": "67525abc",
   "metadata": {},
   "outputs": [],
   "source": [
    "n_estimators = [int(X) for X in np.linspace(start=100,stop=2000,num=10)]\n",
    "max_features = ['auto','sqrt','log2']\n",
    "max_depth = [int(X) for X in np.linspace(5,100,15)]\n",
    "min_samples_split = [2,5,10,20,50]\n",
    "min_samples_leaf = [2,6,10,20,40]"
   ]
  },
  {
   "cell_type": "code",
   "execution_count": 93,
   "id": "e588b9d3",
   "metadata": {},
   "outputs": [],
   "source": [
    "rf_base = RandomForestClassifier()"
   ]
  },
  {
   "cell_type": "code",
   "execution_count": 94,
   "id": "27f1c936",
   "metadata": {},
   "outputs": [],
   "source": [
    "random_grid = {'n_estimators':n_estimators,\n",
    "               'max_depth':max_depth,\n",
    "               'min_samples_split':min_samples_split,\n",
    "               'min_samples_leaf':min_samples_leaf,\n",
    "               'max_features':max_features}"
   ]
  },
  {
   "cell_type": "code",
   "execution_count": null,
   "id": "13a341a4",
   "metadata": {
    "scrolled": true
   },
   "outputs": [
    {
     "name": "stdout",
     "output_type": "stream",
     "text": [
      "Fitting 2 folds for each of 10 candidates, totalling 20 fits\n",
      "[CV] END max_depth=11, max_features=log2, min_samples_leaf=2, min_samples_split=20, n_estimators=2000; total time= 2.3min\n",
      "[CV] END max_depth=11, max_features=log2, min_samples_leaf=2, min_samples_split=20, n_estimators=2000; total time= 2.3min\n",
      "[CV] END max_depth=66, max_features=log2, min_samples_leaf=2, min_samples_split=50, n_estimators=733; total time= 1.0min\n",
      "[CV] END max_depth=66, max_features=log2, min_samples_leaf=2, min_samples_split=50, n_estimators=733; total time= 1.1min\n",
      "[CV] END max_depth=11, max_features=log2, min_samples_leaf=6, min_samples_split=50, n_estimators=944; total time= 1.1min\n",
      "[CV] END max_depth=11, max_features=log2, min_samples_leaf=6, min_samples_split=50, n_estimators=944; total time= 1.1min\n",
      "[CV] END max_depth=66, max_features=log2, min_samples_leaf=2, min_samples_split=50, n_estimators=311; total time=  28.7s\n",
      "[CV] END max_depth=66, max_features=log2, min_samples_leaf=2, min_samples_split=50, n_estimators=311; total time=  29.7s\n",
      "[CV] END max_depth=86, max_features=sqrt, min_samples_leaf=10, min_samples_split=10, n_estimators=522; total time=  45.9s\n",
      "[CV] END max_depth=86, max_features=sqrt, min_samples_leaf=10, min_samples_split=10, n_estimators=522; total time=  45.0s\n",
      "[CV] END max_depth=93, max_features=sqrt, min_samples_leaf=40, min_samples_split=2, n_estimators=311; total time=  22.2s\n",
      "[CV] END max_depth=93, max_features=sqrt, min_samples_leaf=40, min_samples_split=2, n_estimators=311; total time=  22.7s\n",
      "[CV] END max_depth=45, max_features=sqrt, min_samples_leaf=6, min_samples_split=10, n_estimators=2000; total time= 2.6min\n",
      "[CV] END max_depth=45, max_features=sqrt, min_samples_leaf=6, min_samples_split=10, n_estimators=2000; total time= 2.8min\n",
      "[CV] END max_depth=18, max_features=auto, min_samples_leaf=2, min_samples_split=10, n_estimators=100; total time=   9.5s\n",
      "[CV] END max_depth=18, max_features=auto, min_samples_leaf=2, min_samples_split=10, n_estimators=100; total time=   8.5s\n",
      "[CV] END max_depth=93, max_features=sqrt, min_samples_leaf=10, min_samples_split=50, n_estimators=311; total time=  26.2s\n",
      "[CV] END max_depth=93, max_features=sqrt, min_samples_leaf=10, min_samples_split=50, n_estimators=311; total time=  24.6s\n",
      "[CV] END max_depth=93, max_features=sqrt, min_samples_leaf=40, min_samples_split=20, n_estimators=944; total time= 1.2min\n",
      "[CV] END max_depth=93, max_features=sqrt, min_samples_leaf=40, min_samples_split=20, n_estimators=944; total time= 1.1min\n"
     ]
    }
   ],
   "source": [
    "rf_tuned = RandomizedSearchCV(rf_base,param_distributions=random_grid,scoring='neg_mean_squared_error',cv=2,verbose=2,random_state=10)\n",
    "rf_tuned.fit(x_train,y_train)"
   ]
  },
  {
   "cell_type": "code",
   "execution_count": null,
   "id": "b07d10b0",
   "metadata": {},
   "outputs": [],
   "source": [
    "rf_tuned.best_params_"
   ]
  },
  {
   "cell_type": "code",
   "execution_count": null,
   "id": "a70ae2fd",
   "metadata": {},
   "outputs": [],
   "source": [
    "rf_tun = RandomForestClassifier(n_estimators = 100, min_samples_split = 10, min_samples_leaf = 2, max_features= 'auto',max_depth = 18)"
   ]
  },
  {
   "cell_type": "code",
   "execution_count": null,
   "id": "b291a545",
   "metadata": {},
   "outputs": [],
   "source": [
    "rf_tun.fit(x_train, y_train)\n",
    "score(rf_tun, x_train, x_test, y_train, y_test, train = True)\n",
    "score(rf_tun, x_train, x_test, y_train, y_test, train = False)"
   ]
  },
  {
   "cell_type": "markdown",
   "id": "c4b445ca",
   "metadata": {},
   "source": [
    "**- GridSearchCV.**"
   ]
  },
  {
   "cell_type": "code",
   "execution_count": 84,
   "id": "482675fe",
   "metadata": {},
   "outputs": [],
   "source": [
    "n_estimators_list = [130,160,190]\n",
    "criterion_list = ['gini']\n",
    "max_depth_list = [35,55]\n",
    "min_samples_split_list = [0.001, 0.005]\n",
    "min_samples_leaf_list = [0.001, 0.005]\n",
    "max_features_list = ['log2']"
   ]
  },
  {
   "cell_type": "code",
   "execution_count": 85,
   "id": "4560ce69",
   "metadata": {},
   "outputs": [],
   "source": [
    "params_grid = {'n_estimators': n_estimators_list,\n",
    "               'criterion': criterion_list,\n",
    "               'max_depth': max_depth_list,\n",
    "               'min_samples_split': min_samples_split_list,\n",
    "               'min_samples_leaf': min_samples_leaf_list,\n",
    "               'max_features': max_features_list}"
   ]
  },
  {
   "cell_type": "code",
   "execution_count": 86,
   "id": "d611115d",
   "metadata": {},
   "outputs": [
    {
     "name": "stdout",
     "output_type": "stream",
     "text": [
      "Fitting 3 folds for each of 24 candidates, totalling 72 fits\n",
      "[CV 1/3] END criterion=gini, max_depth=35, max_features=log2, min_samples_leaf=0.001, min_samples_split=0.001, n_estimators=130;, score=0.837 total time=  12.9s\n",
      "[CV 2/3] END criterion=gini, max_depth=35, max_features=log2, min_samples_leaf=0.001, min_samples_split=0.001, n_estimators=130;, score=0.841 total time=   9.9s\n",
      "[CV 3/3] END criterion=gini, max_depth=35, max_features=log2, min_samples_leaf=0.001, min_samples_split=0.001, n_estimators=130;, score=0.833 total time=  10.8s\n",
      "[CV 1/3] END criterion=gini, max_depth=35, max_features=log2, min_samples_leaf=0.001, min_samples_split=0.001, n_estimators=160;, score=0.838 total time=  13.0s\n",
      "[CV 2/3] END criterion=gini, max_depth=35, max_features=log2, min_samples_leaf=0.001, min_samples_split=0.001, n_estimators=160;, score=0.843 total time=  15.8s\n",
      "[CV 3/3] END criterion=gini, max_depth=35, max_features=log2, min_samples_leaf=0.001, min_samples_split=0.001, n_estimators=160;, score=0.832 total time=  11.6s\n",
      "[CV 1/3] END criterion=gini, max_depth=35, max_features=log2, min_samples_leaf=0.001, min_samples_split=0.001, n_estimators=190;, score=0.839 total time=  14.8s\n",
      "[CV 2/3] END criterion=gini, max_depth=35, max_features=log2, min_samples_leaf=0.001, min_samples_split=0.001, n_estimators=190;, score=0.838 total time=  17.3s\n",
      "[CV 3/3] END criterion=gini, max_depth=35, max_features=log2, min_samples_leaf=0.001, min_samples_split=0.001, n_estimators=190;, score=0.831 total time=  23.0s\n",
      "[CV 1/3] END criterion=gini, max_depth=35, max_features=log2, min_samples_leaf=0.001, min_samples_split=0.005, n_estimators=130;, score=0.834 total time=  12.6s\n",
      "[CV 2/3] END criterion=gini, max_depth=35, max_features=log2, min_samples_leaf=0.001, min_samples_split=0.005, n_estimators=130;, score=0.834 total time=  17.0s\n",
      "[CV 3/3] END criterion=gini, max_depth=35, max_features=log2, min_samples_leaf=0.001, min_samples_split=0.005, n_estimators=130;, score=0.825 total time=  18.0s\n",
      "[CV 1/3] END criterion=gini, max_depth=35, max_features=log2, min_samples_leaf=0.001, min_samples_split=0.005, n_estimators=160;, score=0.831 total time=  18.8s\n",
      "[CV 2/3] END criterion=gini, max_depth=35, max_features=log2, min_samples_leaf=0.001, min_samples_split=0.005, n_estimators=160;, score=0.833 total time=  17.2s\n",
      "[CV 3/3] END criterion=gini, max_depth=35, max_features=log2, min_samples_leaf=0.001, min_samples_split=0.005, n_estimators=160;, score=0.826 total time=  13.2s\n",
      "[CV 1/3] END criterion=gini, max_depth=35, max_features=log2, min_samples_leaf=0.001, min_samples_split=0.005, n_estimators=190;, score=0.829 total time=  13.0s\n",
      "[CV 2/3] END criterion=gini, max_depth=35, max_features=log2, min_samples_leaf=0.001, min_samples_split=0.005, n_estimators=190;, score=0.834 total time=  15.1s\n",
      "[CV 3/3] END criterion=gini, max_depth=35, max_features=log2, min_samples_leaf=0.001, min_samples_split=0.005, n_estimators=190;, score=0.827 total time=  15.8s\n",
      "[CV 1/3] END criterion=gini, max_depth=35, max_features=log2, min_samples_leaf=0.005, min_samples_split=0.001, n_estimators=130;, score=0.804 total time=   9.4s\n",
      "[CV 2/3] END criterion=gini, max_depth=35, max_features=log2, min_samples_leaf=0.005, min_samples_split=0.001, n_estimators=130;, score=0.804 total time=   8.6s\n",
      "[CV 3/3] END criterion=gini, max_depth=35, max_features=log2, min_samples_leaf=0.005, min_samples_split=0.001, n_estimators=130;, score=0.799 total time=   9.2s\n",
      "[CV 1/3] END criterion=gini, max_depth=35, max_features=log2, min_samples_leaf=0.005, min_samples_split=0.001, n_estimators=160;, score=0.810 total time=  11.3s\n",
      "[CV 2/3] END criterion=gini, max_depth=35, max_features=log2, min_samples_leaf=0.005, min_samples_split=0.001, n_estimators=160;, score=0.805 total time=  10.1s\n",
      "[CV 3/3] END criterion=gini, max_depth=35, max_features=log2, min_samples_leaf=0.005, min_samples_split=0.001, n_estimators=160;, score=0.797 total time=  11.6s\n",
      "[CV 1/3] END criterion=gini, max_depth=35, max_features=log2, min_samples_leaf=0.005, min_samples_split=0.001, n_estimators=190;, score=0.805 total time=  14.4s\n",
      "[CV 2/3] END criterion=gini, max_depth=35, max_features=log2, min_samples_leaf=0.005, min_samples_split=0.001, n_estimators=190;, score=0.805 total time=  13.4s\n",
      "[CV 3/3] END criterion=gini, max_depth=35, max_features=log2, min_samples_leaf=0.005, min_samples_split=0.001, n_estimators=190;, score=0.795 total time=  13.4s\n",
      "[CV 1/3] END criterion=gini, max_depth=35, max_features=log2, min_samples_leaf=0.005, min_samples_split=0.005, n_estimators=130;, score=0.804 total time=   8.6s\n",
      "[CV 2/3] END criterion=gini, max_depth=35, max_features=log2, min_samples_leaf=0.005, min_samples_split=0.005, n_estimators=130;, score=0.800 total time=   9.7s\n",
      "[CV 3/3] END criterion=gini, max_depth=35, max_features=log2, min_samples_leaf=0.005, min_samples_split=0.005, n_estimators=130;, score=0.798 total time=   9.4s\n",
      "[CV 1/3] END criterion=gini, max_depth=35, max_features=log2, min_samples_leaf=0.005, min_samples_split=0.005, n_estimators=160;, score=0.809 total time=  12.3s\n",
      "[CV 2/3] END criterion=gini, max_depth=35, max_features=log2, min_samples_leaf=0.005, min_samples_split=0.005, n_estimators=160;, score=0.803 total time=  11.6s\n",
      "[CV 3/3] END criterion=gini, max_depth=35, max_features=log2, min_samples_leaf=0.005, min_samples_split=0.005, n_estimators=160;, score=0.801 total time=  11.6s\n",
      "[CV 1/3] END criterion=gini, max_depth=35, max_features=log2, min_samples_leaf=0.005, min_samples_split=0.005, n_estimators=190;, score=0.805 total time=  13.9s\n",
      "[CV 2/3] END criterion=gini, max_depth=35, max_features=log2, min_samples_leaf=0.005, min_samples_split=0.005, n_estimators=190;, score=0.803 total time=  15.8s\n",
      "[CV 3/3] END criterion=gini, max_depth=35, max_features=log2, min_samples_leaf=0.005, min_samples_split=0.005, n_estimators=190;, score=0.799 total time=  12.7s\n",
      "[CV 1/3] END criterion=gini, max_depth=55, max_features=log2, min_samples_leaf=0.001, min_samples_split=0.001, n_estimators=130;, score=0.839 total time=  11.6s\n",
      "[CV 2/3] END criterion=gini, max_depth=55, max_features=log2, min_samples_leaf=0.001, min_samples_split=0.001, n_estimators=130;, score=0.840 total time=  13.1s\n",
      "[CV 3/3] END criterion=gini, max_depth=55, max_features=log2, min_samples_leaf=0.001, min_samples_split=0.001, n_estimators=130;, score=0.833 total time=  12.1s\n",
      "[CV 1/3] END criterion=gini, max_depth=55, max_features=log2, min_samples_leaf=0.001, min_samples_split=0.001, n_estimators=160;, score=0.839 total time=  15.5s\n",
      "[CV 2/3] END criterion=gini, max_depth=55, max_features=log2, min_samples_leaf=0.001, min_samples_split=0.001, n_estimators=160;, score=0.841 total time=  14.2s\n",
      "[CV 3/3] END criterion=gini, max_depth=55, max_features=log2, min_samples_leaf=0.001, min_samples_split=0.001, n_estimators=160;, score=0.832 total time=  14.2s\n",
      "[CV 1/3] END criterion=gini, max_depth=55, max_features=log2, min_samples_leaf=0.001, min_samples_split=0.001, n_estimators=190;, score=0.838 total time=  17.6s\n",
      "[CV 2/3] END criterion=gini, max_depth=55, max_features=log2, min_samples_leaf=0.001, min_samples_split=0.001, n_estimators=190;, score=0.841 total time=  18.3s\n",
      "[CV 3/3] END criterion=gini, max_depth=55, max_features=log2, min_samples_leaf=0.001, min_samples_split=0.001, n_estimators=190;, score=0.834 total time=  16.9s\n",
      "[CV 1/3] END criterion=gini, max_depth=55, max_features=log2, min_samples_leaf=0.001, min_samples_split=0.005, n_estimators=130;, score=0.833 total time=  10.7s\n",
      "[CV 2/3] END criterion=gini, max_depth=55, max_features=log2, min_samples_leaf=0.001, min_samples_split=0.005, n_estimators=130;, score=0.835 total time=  11.5s\n",
      "[CV 3/3] END criterion=gini, max_depth=55, max_features=log2, min_samples_leaf=0.001, min_samples_split=0.005, n_estimators=130;, score=0.825 total time=  11.3s\n",
      "[CV 1/3] END criterion=gini, max_depth=55, max_features=log2, min_samples_leaf=0.001, min_samples_split=0.005, n_estimators=160;, score=0.833 total time=  14.2s\n",
      "[CV 2/3] END criterion=gini, max_depth=55, max_features=log2, min_samples_leaf=0.001, min_samples_split=0.005, n_estimators=160;, score=0.833 total time=  13.9s\n",
      "[CV 3/3] END criterion=gini, max_depth=55, max_features=log2, min_samples_leaf=0.001, min_samples_split=0.005, n_estimators=160;, score=0.826 total time=  13.0s\n"
     ]
    },
    {
     "name": "stdout",
     "output_type": "stream",
     "text": [
      "[CV 1/3] END criterion=gini, max_depth=55, max_features=log2, min_samples_leaf=0.001, min_samples_split=0.005, n_estimators=190;, score=0.832 total time=  19.3s\n",
      "[CV 2/3] END criterion=gini, max_depth=55, max_features=log2, min_samples_leaf=0.001, min_samples_split=0.005, n_estimators=190;, score=0.834 total time=  20.4s\n",
      "[CV 3/3] END criterion=gini, max_depth=55, max_features=log2, min_samples_leaf=0.001, min_samples_split=0.005, n_estimators=190;, score=0.826 total time=  16.7s\n",
      "[CV 1/3] END criterion=gini, max_depth=55, max_features=log2, min_samples_leaf=0.005, min_samples_split=0.001, n_estimators=130;, score=0.809 total time=   9.5s\n",
      "[CV 2/3] END criterion=gini, max_depth=55, max_features=log2, min_samples_leaf=0.005, min_samples_split=0.001, n_estimators=130;, score=0.808 total time=   9.1s\n",
      "[CV 3/3] END criterion=gini, max_depth=55, max_features=log2, min_samples_leaf=0.005, min_samples_split=0.001, n_estimators=130;, score=0.798 total time=   9.9s\n",
      "[CV 1/3] END criterion=gini, max_depth=55, max_features=log2, min_samples_leaf=0.005, min_samples_split=0.001, n_estimators=160;, score=0.804 total time=  10.8s\n",
      "[CV 2/3] END criterion=gini, max_depth=55, max_features=log2, min_samples_leaf=0.005, min_samples_split=0.001, n_estimators=160;, score=0.804 total time=  12.4s\n",
      "[CV 3/3] END criterion=gini, max_depth=55, max_features=log2, min_samples_leaf=0.005, min_samples_split=0.001, n_estimators=160;, score=0.800 total time=  13.4s\n",
      "[CV 1/3] END criterion=gini, max_depth=55, max_features=log2, min_samples_leaf=0.005, min_samples_split=0.001, n_estimators=190;, score=0.809 total time=  14.9s\n",
      "[CV 2/3] END criterion=gini, max_depth=55, max_features=log2, min_samples_leaf=0.005, min_samples_split=0.001, n_estimators=190;, score=0.807 total time=  14.5s\n",
      "[CV 3/3] END criterion=gini, max_depth=55, max_features=log2, min_samples_leaf=0.005, min_samples_split=0.001, n_estimators=190;, score=0.801 total time=  13.6s\n",
      "[CV 1/3] END criterion=gini, max_depth=55, max_features=log2, min_samples_leaf=0.005, min_samples_split=0.005, n_estimators=130;, score=0.805 total time=   8.5s\n",
      "[CV 2/3] END criterion=gini, max_depth=55, max_features=log2, min_samples_leaf=0.005, min_samples_split=0.005, n_estimators=130;, score=0.802 total time=   9.3s\n",
      "[CV 3/3] END criterion=gini, max_depth=55, max_features=log2, min_samples_leaf=0.005, min_samples_split=0.005, n_estimators=130;, score=0.796 total time=   9.4s\n",
      "[CV 1/3] END criterion=gini, max_depth=55, max_features=log2, min_samples_leaf=0.005, min_samples_split=0.005, n_estimators=160;, score=0.806 total time=  11.4s\n",
      "[CV 2/3] END criterion=gini, max_depth=55, max_features=log2, min_samples_leaf=0.005, min_samples_split=0.005, n_estimators=160;, score=0.804 total time=  11.8s\n",
      "[CV 3/3] END criterion=gini, max_depth=55, max_features=log2, min_samples_leaf=0.005, min_samples_split=0.005, n_estimators=160;, score=0.797 total time=  11.6s\n",
      "[CV 1/3] END criterion=gini, max_depth=55, max_features=log2, min_samples_leaf=0.005, min_samples_split=0.005, n_estimators=190;, score=0.807 total time=  13.2s\n",
      "[CV 2/3] END criterion=gini, max_depth=55, max_features=log2, min_samples_leaf=0.005, min_samples_split=0.005, n_estimators=190;, score=0.801 total time=  13.9s\n",
      "[CV 3/3] END criterion=gini, max_depth=55, max_features=log2, min_samples_leaf=0.005, min_samples_split=0.005, n_estimators=190;, score=0.795 total time=  13.8s\n"
     ]
    },
    {
     "data": {
      "text/html": [
       "<style>#sk-container-id-2 {color: black;background-color: white;}#sk-container-id-2 pre{padding: 0;}#sk-container-id-2 div.sk-toggleable {background-color: white;}#sk-container-id-2 label.sk-toggleable__label {cursor: pointer;display: block;width: 100%;margin-bottom: 0;padding: 0.3em;box-sizing: border-box;text-align: center;}#sk-container-id-2 label.sk-toggleable__label-arrow:before {content: \"▸\";float: left;margin-right: 0.25em;color: #696969;}#sk-container-id-2 label.sk-toggleable__label-arrow:hover:before {color: black;}#sk-container-id-2 div.sk-estimator:hover label.sk-toggleable__label-arrow:before {color: black;}#sk-container-id-2 div.sk-toggleable__content {max-height: 0;max-width: 0;overflow: hidden;text-align: left;background-color: #f0f8ff;}#sk-container-id-2 div.sk-toggleable__content pre {margin: 0.2em;color: black;border-radius: 0.25em;background-color: #f0f8ff;}#sk-container-id-2 input.sk-toggleable__control:checked~div.sk-toggleable__content {max-height: 200px;max-width: 100%;overflow: auto;}#sk-container-id-2 input.sk-toggleable__control:checked~label.sk-toggleable__label-arrow:before {content: \"▾\";}#sk-container-id-2 div.sk-estimator input.sk-toggleable__control:checked~label.sk-toggleable__label {background-color: #d4ebff;}#sk-container-id-2 div.sk-label input.sk-toggleable__control:checked~label.sk-toggleable__label {background-color: #d4ebff;}#sk-container-id-2 input.sk-hidden--visually {border: 0;clip: rect(1px 1px 1px 1px);clip: rect(1px, 1px, 1px, 1px);height: 1px;margin: -1px;overflow: hidden;padding: 0;position: absolute;width: 1px;}#sk-container-id-2 div.sk-estimator {font-family: monospace;background-color: #f0f8ff;border: 1px dotted black;border-radius: 0.25em;box-sizing: border-box;margin-bottom: 0.5em;}#sk-container-id-2 div.sk-estimator:hover {background-color: #d4ebff;}#sk-container-id-2 div.sk-parallel-item::after {content: \"\";width: 100%;border-bottom: 1px solid gray;flex-grow: 1;}#sk-container-id-2 div.sk-label:hover label.sk-toggleable__label {background-color: #d4ebff;}#sk-container-id-2 div.sk-serial::before {content: \"\";position: absolute;border-left: 1px solid gray;box-sizing: border-box;top: 0;bottom: 0;left: 50%;z-index: 0;}#sk-container-id-2 div.sk-serial {display: flex;flex-direction: column;align-items: center;background-color: white;padding-right: 0.2em;padding-left: 0.2em;position: relative;}#sk-container-id-2 div.sk-item {position: relative;z-index: 1;}#sk-container-id-2 div.sk-parallel {display: flex;align-items: stretch;justify-content: center;background-color: white;position: relative;}#sk-container-id-2 div.sk-item::before, #sk-container-id-2 div.sk-parallel-item::before {content: \"\";position: absolute;border-left: 1px solid gray;box-sizing: border-box;top: 0;bottom: 0;left: 50%;z-index: -1;}#sk-container-id-2 div.sk-parallel-item {display: flex;flex-direction: column;z-index: 1;position: relative;background-color: white;}#sk-container-id-2 div.sk-parallel-item:first-child::after {align-self: flex-end;width: 50%;}#sk-container-id-2 div.sk-parallel-item:last-child::after {align-self: flex-start;width: 50%;}#sk-container-id-2 div.sk-parallel-item:only-child::after {width: 0;}#sk-container-id-2 div.sk-dashed-wrapped {border: 1px dashed gray;margin: 0 0.4em 0.5em 0.4em;box-sizing: border-box;padding-bottom: 0.4em;background-color: white;}#sk-container-id-2 div.sk-label label {font-family: monospace;font-weight: bold;display: inline-block;line-height: 1.2em;}#sk-container-id-2 div.sk-label-container {text-align: center;}#sk-container-id-2 div.sk-container {/* jupyter's `normalize.less` sets `[hidden] { display: none; }` but bootstrap.min.css set `[hidden] { display: none !important; }` so we also need the `!important` here to be able to override the default hidden behavior on the sphinx rendered scikit-learn.org. See: https://github.com/scikit-learn/scikit-learn/issues/21755 */display: inline-block !important;position: relative;}#sk-container-id-2 div.sk-text-repr-fallback {display: none;}</style><div id=\"sk-container-id-2\" class=\"sk-top-container\"><div class=\"sk-text-repr-fallback\"><pre>GridSearchCV(cv=3, estimator=RandomForestClassifier(class_weight=&#x27;balanced&#x27;),\n",
       "             param_grid={&#x27;criterion&#x27;: [&#x27;gini&#x27;], &#x27;max_depth&#x27;: [35, 55],\n",
       "                         &#x27;max_features&#x27;: [&#x27;log2&#x27;],\n",
       "                         &#x27;min_samples_leaf&#x27;: [0.001, 0.005],\n",
       "                         &#x27;min_samples_split&#x27;: [0.001, 0.005],\n",
       "                         &#x27;n_estimators&#x27;: [130, 160, 190]},\n",
       "             verbose=4)</pre><b>In a Jupyter environment, please rerun this cell to show the HTML representation or trust the notebook. <br />On GitHub, the HTML representation is unable to render, please try loading this page with nbviewer.org.</b></div><div class=\"sk-container\" hidden><div class=\"sk-item sk-dashed-wrapped\"><div class=\"sk-label-container\"><div class=\"sk-label sk-toggleable\"><input class=\"sk-toggleable__control sk-hidden--visually\" id=\"sk-estimator-id-4\" type=\"checkbox\" ><label for=\"sk-estimator-id-4\" class=\"sk-toggleable__label sk-toggleable__label-arrow\">GridSearchCV</label><div class=\"sk-toggleable__content\"><pre>GridSearchCV(cv=3, estimator=RandomForestClassifier(class_weight=&#x27;balanced&#x27;),\n",
       "             param_grid={&#x27;criterion&#x27;: [&#x27;gini&#x27;], &#x27;max_depth&#x27;: [35, 55],\n",
       "                         &#x27;max_features&#x27;: [&#x27;log2&#x27;],\n",
       "                         &#x27;min_samples_leaf&#x27;: [0.001, 0.005],\n",
       "                         &#x27;min_samples_split&#x27;: [0.001, 0.005],\n",
       "                         &#x27;n_estimators&#x27;: [130, 160, 190]},\n",
       "             verbose=4)</pre></div></div></div><div class=\"sk-parallel\"><div class=\"sk-parallel-item\"><div class=\"sk-item\"><div class=\"sk-label-container\"><div class=\"sk-label sk-toggleable\"><input class=\"sk-toggleable__control sk-hidden--visually\" id=\"sk-estimator-id-5\" type=\"checkbox\" ><label for=\"sk-estimator-id-5\" class=\"sk-toggleable__label sk-toggleable__label-arrow\">estimator: RandomForestClassifier</label><div class=\"sk-toggleable__content\"><pre>RandomForestClassifier(class_weight=&#x27;balanced&#x27;)</pre></div></div></div><div class=\"sk-serial\"><div class=\"sk-item\"><div class=\"sk-estimator sk-toggleable\"><input class=\"sk-toggleable__control sk-hidden--visually\" id=\"sk-estimator-id-6\" type=\"checkbox\" ><label for=\"sk-estimator-id-6\" class=\"sk-toggleable__label sk-toggleable__label-arrow\">RandomForestClassifier</label><div class=\"sk-toggleable__content\"><pre>RandomForestClassifier(class_weight=&#x27;balanced&#x27;)</pre></div></div></div></div></div></div></div></div></div></div>"
      ],
      "text/plain": [
       "GridSearchCV(cv=3, estimator=RandomForestClassifier(class_weight='balanced'),\n",
       "             param_grid={'criterion': ['gini'], 'max_depth': [35, 55],\n",
       "                         'max_features': ['log2'],\n",
       "                         'min_samples_leaf': [0.001, 0.005],\n",
       "                         'min_samples_split': [0.001, 0.005],\n",
       "                         'n_estimators': [130, 160, 190]},\n",
       "             verbose=4)"
      ]
     },
     "execution_count": 86,
     "metadata": {},
     "output_type": "execute_result"
    }
   ],
   "source": [
    "model_rfg = GridSearchCV(estimator=RandomForestClassifier(class_weight='balanced'),param_grid=params_grid,cv=3,verbose=4)\n",
    "model_rfg.fit(x_train,y_train)"
   ]
  },
  {
   "cell_type": "code",
   "execution_count": 87,
   "id": "e08e4c08",
   "metadata": {},
   "outputs": [
    {
     "data": {
      "text/plain": [
       "{'criterion': 'gini',\n",
       " 'max_depth': 55,\n",
       " 'max_features': 'log2',\n",
       " 'min_samples_leaf': 0.001,\n",
       " 'min_samples_split': 0.001,\n",
       " 'n_estimators': 190}"
      ]
     },
     "execution_count": 87,
     "metadata": {},
     "output_type": "execute_result"
    }
   ],
   "source": [
    "model_rfg.best_params_"
   ]
  },
  {
   "cell_type": "code",
   "execution_count": 88,
   "id": "9fd886e5",
   "metadata": {},
   "outputs": [],
   "source": [
    "model_rf_fin = RandomForestClassifier(class_weight='balanced',\n",
    "                                      criterion='gini',\n",
    "                                      max_depth=55,\n",
    "                                      max_features='log2',\n",
    "                                      min_samples_leaf=0.001,\n",
    "                                      min_samples_split=0.001,\n",
    "                                      n_estimators=190)"
   ]
  },
  {
   "cell_type": "code",
   "execution_count": 89,
   "id": "c78608e3",
   "metadata": {},
   "outputs": [
    {
     "name": "stdout",
     "output_type": "stream",
     "text": [
      "\n",
      " ----- Train Result ----- \n",
      "\n",
      "Accuracy Score: 0.832434352178642\n",
      "\n",
      " ----- Classification Report ----- \n",
      "               precision    recall  f1-score   support\n",
      "\n",
      "           0       0.30      0.81      0.44      3635\n",
      "           1       0.98      0.83      0.90     41416\n",
      "\n",
      "    accuracy                           0.83     45051\n",
      "   macro avg       0.64      0.82      0.67     45051\n",
      "weighted avg       0.93      0.83      0.86     45051\n",
      "\n",
      "\n",
      " ----- Confusion matrix ----- \n",
      " [[ 2939   696]\n",
      " [ 6853 34563]]\n",
      "\n",
      " ----- Test Result ----- \n",
      "\n",
      "Accuracy Score: 0.8316686642695432\n",
      "\n",
      " ----- Classification Report ----- \n",
      "               precision    recall  f1-score   support\n",
      "\n",
      "           0       0.29      0.77      0.42      1194\n",
      "           1       0.98      0.84      0.90     13824\n",
      "\n",
      "    accuracy                           0.83     15018\n",
      "   macro avg       0.63      0.80      0.66     15018\n",
      "weighted avg       0.92      0.83      0.86     15018\n",
      "\n",
      "\n",
      " ----- Confusion matrix ----- \n",
      " [[  921   273]\n",
      " [ 2255 11569]]\n"
     ]
    }
   ],
   "source": [
    "model_rf_fin.fit(x_train, y_train)\n",
    "score(model_rf_fin, x_train, x_test, y_train, y_test, train = True)\n",
    "score(model_rf_fin, x_train, x_test, y_train, y_test, train = False)"
   ]
  },
  {
   "cell_type": "markdown",
   "id": "ef21aee4",
   "metadata": {},
   "source": [
    "**- Post tuning results are low then the previous default parameter, so we will go with the default parameters only.**"
   ]
  },
  {
   "cell_type": "markdown",
   "id": "c1a0dd7b",
   "metadata": {},
   "source": [
    "## Pipeline"
   ]
  },
  {
   "cell_type": "code",
   "execution_count": null,
   "id": "ce01794b",
   "metadata": {},
   "outputs": [],
   "source": [
    "pipeline_randomforest =  Pipeline([('scaler1', StandardScaler()),\n",
    "                               ('pca1',PCA(n_components=2)),\n",
    "                               ('rf_classifier',RandomForestClassifier())])"
   ]
  },
  {
   "cell_type": "code",
   "execution_count": null,
   "id": "6c96a988",
   "metadata": {},
   "outputs": [],
   "source": [
    "pipeline_randomforest.fit(x_train,y_train)\n",
    "pred = pipeline_randomforest.predict(x_test)\n",
    "accuracy_score(y_test,pred) "
   ]
  },
  {
   "cell_type": "markdown",
   "id": "4d189854",
   "metadata": {},
   "source": [
    "## KNeighbors"
   ]
  },
  {
   "cell_type": "code",
   "execution_count": 1,
   "id": "2b77fe91",
   "metadata": {},
   "outputs": [
    {
     "ename": "NameError",
     "evalue": "name 'KNeighborsClassifier' is not defined",
     "output_type": "error",
     "traceback": [
      "\u001b[1;31m---------------------------------------------------------------------------\u001b[0m",
      "\u001b[1;31mNameError\u001b[0m                                 Traceback (most recent call last)",
      "\u001b[1;32m<ipython-input-1-46e243c18003>\u001b[0m in \u001b[0;36m<module>\u001b[1;34m\u001b[0m\n\u001b[1;32m----> 1\u001b[1;33m \u001b[0mknn\u001b[0m \u001b[1;33m=\u001b[0m \u001b[0mKNeighborsClassifier\u001b[0m\u001b[1;33m(\u001b[0m\u001b[1;33m)\u001b[0m\u001b[1;33m\u001b[0m\u001b[1;33m\u001b[0m\u001b[0m\n\u001b[0m",
      "\u001b[1;31mNameError\u001b[0m: name 'KNeighborsClassifier' is not defined"
     ]
    }
   ],
   "source": [
    "knn = KNeighborsClassifier()"
   ]
  },
  {
   "cell_type": "code",
   "execution_count": null,
   "id": "a69fee66",
   "metadata": {},
   "outputs": [],
   "source": [
    "X_train,X_test,Y_train,Y_test = train_test_split(x_scaled,y,random_state = 10,test_size=0.35)"
   ]
  },
  {
   "cell_type": "code",
   "execution_count": null,
   "id": "b2e4b2d6",
   "metadata": {},
   "outputs": [],
   "source": [
    "acc_score =[]\n",
    "for i in range(1,30):\n",
    "    knn = KNeighborsClassifier(i)\n",
    "    score = cross_val_score(knn,X_train,Y_train,cv=2)\n",
    "    acc_score.append(score.mean())"
   ]
  },
  {
   "cell_type": "code",
   "execution_count": null,
   "id": "22add613",
   "metadata": {},
   "outputs": [],
   "source": [
    "plt.figure()\n",
    "plt.plot(range(1,30),acc_score,color='blue',marker='o',markerfacecolor='red')\n",
    "plt.xlabel('Values for K')\n",
    "plt.ylabel('Accuracy Score Value')\n",
    "plt.title('Accuracy Score v/s K-Value')\n",
    "plt.show()"
   ]
  },
  {
   "cell_type": "code",
   "execution_count": null,
   "id": "ad0272aa",
   "metadata": {},
   "outputs": [],
   "source": [
    "error_score = []\n",
    "for i in range(1,30):\n",
    "    knn = KNeighborsClassifier(i)\n",
    "    score = cross_val_score(knn,X_train,Y_train,cv=2)\n",
    "    error_score.append(1-(score.mean()))"
   ]
  },
  {
   "cell_type": "code",
   "execution_count": null,
   "id": "5486c32d",
   "metadata": {},
   "outputs": [],
   "source": [
    "plt.figure()\n",
    "plt.plot(range(1,30),error_score,color='blue',marker='o',markerfacecolor='red')\n",
    "plt.xlabel('Values for K')\n",
    "plt.ylabel('Error Score Value')\n",
    "plt.title('Error Score v/s K-Value')\n",
    "plt.show()"
   ]
  },
  {
   "cell_type": "markdown",
   "id": "bf249410",
   "metadata": {},
   "source": [
    "**From both the error curve and accuracy curve we can see that the value of error as well as accuracy becomes nearly constant for values of K equal to 7 or 8.**"
   ]
  },
  {
   "cell_type": "markdown",
   "id": "d3504ca4",
   "metadata": {},
   "source": [
    "## KNN MODEL - K=8"
   ]
  },
  {
   "cell_type": "code",
   "execution_count": null,
   "id": "1e9cc45e",
   "metadata": {},
   "outputs": [],
   "source": [
    "knn_1 = KNeighborsClassifier(n_neighbors=8)\n",
    "knn_1.fit(X_train,Y_train)"
   ]
  },
  {
   "cell_type": "code",
   "execution_count": null,
   "id": "d961acaf",
   "metadata": {},
   "outputs": [],
   "source": [
    "predict_1 = knn_1.predict(X_test)"
   ]
  },
  {
   "cell_type": "code",
   "execution_count": null,
   "id": "02fce041",
   "metadata": {},
   "outputs": [],
   "source": [
    "print(accuracy_score(predict_1,Y_test))"
   ]
  },
  {
   "cell_type": "code",
   "execution_count": null,
   "id": "36b28313",
   "metadata": {},
   "outputs": [],
   "source": [
    "print(confusion_matrix(predict_1,Y_test))"
   ]
  },
  {
   "cell_type": "code",
   "execution_count": null,
   "id": "6c9e5495",
   "metadata": {},
   "outputs": [],
   "source": [
    "print(classification_report(Y_test,predict_1))"
   ]
  },
  {
   "cell_type": "markdown",
   "id": "9e05682b",
   "metadata": {},
   "source": [
    "## KNN MODEL - K=7"
   ]
  },
  {
   "cell_type": "code",
   "execution_count": null,
   "id": "d28a4c65",
   "metadata": {},
   "outputs": [],
   "source": [
    "knn_2 = KNeighborsClassifier(n_neighbors=7)\n",
    "knn_2.fit(X_train,Y_train)"
   ]
  },
  {
   "cell_type": "code",
   "execution_count": null,
   "id": "1b6ac6b6",
   "metadata": {},
   "outputs": [],
   "source": [
    "predict_2 = knn_2.predict(X_test)\n",
    "print(accuracy_score(predict_2,Y_test))"
   ]
  },
  {
   "cell_type": "code",
   "execution_count": null,
   "id": "18dfc4a0",
   "metadata": {},
   "outputs": [],
   "source": [
    "print(confusion_matrix(predict_2,Y_test))"
   ]
  },
  {
   "cell_type": "code",
   "execution_count": null,
   "id": "dc77f64a",
   "metadata": {},
   "outputs": [],
   "source": [
    "print(classification_report(Y_test,predict_2))"
   ]
  },
  {
   "cell_type": "markdown",
   "id": "5ad967f4",
   "metadata": {},
   "source": [
    "## Hyperparameter Tuning"
   ]
  },
  {
   "cell_type": "code",
   "execution_count": null,
   "id": "eab4864c",
   "metadata": {},
   "outputs": [],
   "source": [
    "grid_params = { 'n_neighbors' : [7,8,9,11,13,15,17],\n",
    "               'weights' : ['uniform','distance'],\n",
    "               'metric' : ['minkowski','euclidean','manhattan']}"
   ]
  },
  {
   "cell_type": "code",
   "execution_count": null,
   "id": "a71e977a",
   "metadata": {},
   "outputs": [],
   "source": [
    "gs = GridSearchCV(KNeighborsClassifier(), grid_params, verbose = 1, cv=2, n_jobs = -1)\n",
    "g_res = gs.fit(X_train, Y_train)\n",
    "g_res.best_score_"
   ]
  },
  {
   "cell_type": "code",
   "execution_count": null,
   "id": "dabedcef",
   "metadata": {},
   "outputs": [],
   "source": [
    "g_res.best_params_"
   ]
  },
  {
   "cell_type": "code",
   "execution_count": null,
   "id": "fb1eadb9",
   "metadata": {},
   "outputs": [],
   "source": [
    "knn = KNeighborsClassifier(n_neighbors = 13, weights = 'uniform',metric = 'manhattan')"
   ]
  },
  {
   "cell_type": "code",
   "execution_count": null,
   "id": "b206fa2d",
   "metadata": {},
   "outputs": [],
   "source": [
    "knn.fit(X_train, Y_train)\n",
    "score(knn, X_train, X_test, Y_train, Y_test, train = True)\n",
    "score(knn, X_train, X_test, Y_train, Y_test, train = False)"
   ]
  },
  {
   "cell_type": "markdown",
   "id": "8497fac3",
   "metadata": {},
   "source": [
    "**As we can conclude that, post tuning score is very close to the previous accuracy score, so we can consider that our model is giving best accuracy score in both of the cases before and after tuning.**"
   ]
  },
  {
   "cell_type": "markdown",
   "id": "1851ddf7",
   "metadata": {},
   "source": [
    "## Pipeline:"
   ]
  },
  {
   "cell_type": "code",
   "execution_count": null,
   "id": "a0ad0526",
   "metadata": {},
   "outputs": [],
   "source": [
    "pipeline_KNeighborsClassifier= Pipeline([('scaler2', StandardScaler()),\n",
    "                                        ('pca2',PCA(n_components=2)),\n",
    "                                        ('kNN_classifier',KNeighborsClassifier(n_neighbors = 7))])"
   ]
  },
  {
   "cell_type": "code",
   "execution_count": null,
   "id": "df76822d",
   "metadata": {},
   "outputs": [],
   "source": [
    "pipeline_KNeighborsClassifier.fit(x_train,y_train)\n",
    "pred = pipeline_KNeighborsClassifier.predict(x_test)\n",
    "accuracy_score(y_test,pred)"
   ]
  },
  {
   "cell_type": "markdown",
   "id": "0e208407",
   "metadata": {},
   "source": [
    "## QDA Model."
   ]
  },
  {
   "cell_type": "markdown",
   "id": "894d5ea0",
   "metadata": {},
   "source": [
    "**- Model Training.**"
   ]
  },
  {
   "cell_type": "code",
   "execution_count": null,
   "id": "a015f6ea",
   "metadata": {},
   "outputs": [],
   "source": [
    "qda = QuadraticDiscriminantAnalysis()"
   ]
  },
  {
   "cell_type": "code",
   "execution_count": null,
   "id": "1f2791bb",
   "metadata": {},
   "outputs": [],
   "source": [
    "x_train,x_test,y_train,y_test = train_test_split(x_scaled, y, random_state = 6, test_size = 0.25)"
   ]
  },
  {
   "cell_type": "code",
   "execution_count": null,
   "id": "d3b54200",
   "metadata": {},
   "outputs": [],
   "source": [
    "qda.fit(x_train,y_train)\n",
    "score(qda, x_train, x_test, y_train, y_test, train = True)\n",
    "score(qda, x_train, x_test, y_train, y_test, train = False)"
   ]
  },
  {
   "cell_type": "code",
   "execution_count": null,
   "id": "30794bb9",
   "metadata": {},
   "outputs": [],
   "source": [
    "roc_curve_plot(qda,x_test, y_test)"
   ]
  },
  {
   "cell_type": "code",
   "execution_count": null,
   "id": "d0137a72",
   "metadata": {},
   "outputs": [],
   "source": [
    "confusion_matrix_plot(qda,x_test, y_test)"
   ]
  },
  {
   "cell_type": "code",
   "execution_count": null,
   "id": "ffa9bafc",
   "metadata": {},
   "outputs": [],
   "source": [
    "a_qda = np.array(y_test)\n",
    "predicted_qda = np.array(qda.predict(x_test))\n",
    "df_qda = pd.DataFrame({'Original':a_qda,'Predicted':predicted_qda})\n",
    "df_qda"
   ]
  },
  {
   "cell_type": "markdown",
   "id": "f1513ec1",
   "metadata": {},
   "source": [
    "### Hyperparameter Tuning"
   ]
  },
  {
   "cell_type": "code",
   "execution_count": null,
   "id": "4c6ca497",
   "metadata": {},
   "outputs": [],
   "source": [
    "qda.get_params()"
   ]
  },
  {
   "cell_type": "code",
   "execution_count": null,
   "id": "83a7b156",
   "metadata": {},
   "outputs": [],
   "source": [
    "parameters = {'reg_param': (0.00001, 0.0001, 0.001,0.01, 0.1,0.5), \n",
    "              'store_covariance': (True, False),\n",
    "              'tol': (0.0001, 0.001,0.01, 0.1)} "
   ]
  },
  {
   "cell_type": "code",
   "execution_count": null,
   "id": "13eaef56",
   "metadata": {},
   "outputs": [],
   "source": [
    "g_qda = GridSearchCV(estimator=qda, param_grid=parameters, cv = 2)\n",
    "g_res = g_qda.fit(x_train, y_train)\n",
    "print(g_res.best_params_)"
   ]
  },
  {
   "cell_type": "code",
   "execution_count": null,
   "id": "89094991",
   "metadata": {},
   "outputs": [],
   "source": [
    "qda = QuadraticDiscriminantAnalysis(reg_param = 1e-05, store_covariance= True, tol= 0.0001)"
   ]
  },
  {
   "cell_type": "code",
   "execution_count": null,
   "id": "57924355",
   "metadata": {},
   "outputs": [],
   "source": [
    "for i in range(0,10):\n",
    "    x_train,x_test,y_train,y_test = train_test_split(x_scaled, y, random_state = i, test_size = 0.25)\n",
    "    qda.fit(x_train,y_train)\n",
    "    pred_train = qda.predict(x_train)\n",
    "    pred_test = qda.predict(x_test) \n",
    "    if  round(accuracy_score(y_test,pred_test)*100,1) >= 94:\n",
    "        print('At Random state:',i)\n",
    "        print('Training score :',round(accuracy_score(y_train,pred_train)*100,1))\n",
    "        print('Testing score:',round(accuracy_score(y_test,pred_test)*100,1))"
   ]
  },
  {
   "cell_type": "code",
   "execution_count": null,
   "id": "3d45132d",
   "metadata": {},
   "outputs": [],
   "source": [
    "x_train,x_test,y_train,y_test = train_test_split(x_scaled, y, random_state = 3, test_size = 0.25)"
   ]
  },
  {
   "cell_type": "code",
   "execution_count": null,
   "id": "292d862a",
   "metadata": {},
   "outputs": [],
   "source": [
    "qda.fit(x_train,y_train)\n",
    "score(qda, x_train, x_test, y_train, y_test, train = True)\n",
    "score(qda, x_train, x_test, y_train, y_test, train = False)"
   ]
  },
  {
   "cell_type": "markdown",
   "id": "37c5a2a2",
   "metadata": {},
   "source": [
    "**As we can conclude that, post tuning score is very close to the previous accuracy score, so we can consider that our model is giving best accuracy score in both of the cases before and after tuning, So can go with both of the parameters.**"
   ]
  }
 ],
 "metadata": {
  "kernelspec": {
   "display_name": "Python 3",
   "language": "python",
   "name": "python3"
  },
  "language_info": {
   "codemirror_mode": {
    "name": "ipython",
    "version": 3
   },
   "file_extension": ".py",
   "mimetype": "text/x-python",
   "name": "python",
   "nbconvert_exporter": "python",
   "pygments_lexer": "ipython3",
   "version": "3.8.8"
  },
  "vscode": {
   "interpreter": {
    "hash": "16dc2d2d71bae7e087e22c9938547136cefff4f02b3c2d5cb5e6376c70583cc1"
   }
  }
 },
 "nbformat": 4,
 "nbformat_minor": 5
}
